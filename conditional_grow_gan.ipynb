{
 "cells": [
  {
   "cell_type": "markdown",
   "metadata": {
    "colab_type": "text",
    "id": "view-in-github"
   },
   "source": [
    "<a href=\"https://colab.research.google.com/github/hseghetto/PICME-Deep-Learning/blob/main/coditional_grow_gan.ipynb\" target=\"_parent\"><img src=\"https://colab.research.google.com/assets/colab-badge.svg\" alt=\"Open In Colab\"/></a>"
   ]
  },
  {
   "cell_type": "code",
   "execution_count": 6,
   "metadata": {
    "id": "Cr_zhPMmMoUI"
   },
   "outputs": [],
   "source": [
    "import tensorflow as tf\n",
    "\n",
    "import glob\n",
    "import matplotlib.pyplot as plt\n",
    "import numpy as np\n",
    "import PIL\n",
    "from tensorflow.keras import layers\n",
    "import time\n",
    "import os\n",
    "\n",
    "from IPython import display"
   ]
  },
  {
   "cell_type": "code",
   "execution_count": 2,
   "metadata": {},
   "outputs": [],
   "source": [
    "tf.__version__\n",
    "physical_devices = tf.config.list_physical_devices('GPU')\n",
    "tf.config.experimental.set_memory_growth(physical_devices[0],True)"
   ]
  },
  {
   "cell_type": "markdown",
   "metadata": {
    "id": "9zNKbz7bM0Pg"
   },
   "source": [
    "#Loading dataset\n"
   ]
  },
  {
   "cell_type": "code",
   "execution_count": 3,
   "metadata": {
    "colab": {
     "base_uri": "https://localhost:8080/"
    },
    "id": "HMyXgWFbMv-q",
    "outputId": "f2243c65-c86c-4375-b654-2835c5843385"
   },
   "outputs": [
    {
     "name": "stdout",
     "output_type": "stream",
     "text": [
      "(60000, 28, 28, 1)\n"
     ]
    }
   ],
   "source": [
    "(train_images, train_labels), (_, _) = tf.keras.datasets.mnist.load_data()\n",
    "train_images = train_images.reshape(train_images.shape[0], 28, 28, 1).astype('float32')\n",
    "\n",
    "\"\"\"(train_images, train_labels), (_, _) = tf.keras.datasets.cifar10.load_data()\n",
    "train_images = train_images.reshape(train_images.shape[0], 32, 32, 3).astype('float32')\"\"\"\n",
    "\n",
    "train_images = (train_images - 127.5) / 127.5  # Normalize the images to [-1, 1]\n",
    "\n",
    "print(train_images.shape)"
   ]
  },
  {
   "cell_type": "code",
   "execution_count": 4,
   "metadata": {
    "colab": {
     "base_uri": "https://localhost:8080/"
    },
    "id": "RhtaEkJJabZZ",
    "outputId": "576b4555-98d4-4b8a-aa15-9356072b9236"
   },
   "outputs": [
    {
     "name": "stdout",
     "output_type": "stream",
     "text": [
      "(10, 56, 56, 1)\n",
      "(10, 14, 14, 1)\n",
      "7 7 1 10\n"
     ]
    }
   ],
   "source": [
    "upsample = tf.keras.layers.UpSampling2D(size=(2,2))\n",
    "downsample = tf.keras.layers.AveragePooling2D(pool_size=(2,2))\n",
    "\n",
    "shape = upsample(train_images[0:10]).shape\n",
    "print(shape)\n",
    "\n",
    "shape = downsample(train_images[0:10]).shape\n",
    "print(shape)\n",
    "\n",
    "assert shape[-3]%2 == 0 and shape[-2]%2 == 0\n",
    "\n",
    "WIDTH = shape[-3]//2 #Smallest width to be used in generator, equivalente to 1/4 of the original image size\n",
    "HEIGHT = shape[-2]//2\n",
    "CHANNELS = shape[-1]\n",
    "LABEL_DIM = len(np.unique(train_labels))\n",
    "print(WIDTH,HEIGHT,CHANNELS,LABEL_DIM)"
   ]
  },
  {
   "cell_type": "code",
   "execution_count": 5,
   "metadata": {
    "id": "Yimn4c4mNJpG"
   },
   "outputs": [],
   "source": [
    "BUFFER_SIZE = 60000\n",
    "BATCH_SIZE = 64\n",
    "noise_dim = 100\n",
    "\n",
    "# Batch and shuffle the data\n",
    "train_dataset14 = tf.data.Dataset.from_tensor_slices((downsample(train_images),train_labels)).shuffle(BUFFER_SIZE).batch(BATCH_SIZE)\n",
    "train_dataset28 = tf.data.Dataset.from_tensor_slices((train_images,train_labels)).shuffle(BUFFER_SIZE).batch(BATCH_SIZE)\n",
    "train_dataset56 = tf.data.Dataset.from_tensor_slices((upsample(train_images),train_labels)).shuffle(BUFFER_SIZE).batch(BATCH_SIZE)"
   ]
  },
  {
   "cell_type": "code",
   "execution_count": 6,
   "metadata": {
    "id": "HgAbRCFG98A1"
   },
   "outputs": [],
   "source": [
    "class WeightedSum(tf.keras.layers.Add):\n",
    "    # init with default value\n",
    "    def __init__(self, alpha=0.0, **kwargs):\n",
    "        super(WeightedSum, self).__init__(**kwargs)\n",
    "        self.alpha = tf.keras.backend.variable(alpha, name='ws_alpha')\n",
    "\n",
    "    # output a weighted sum of inputs\n",
    "    def _merge_function(self, inputs):\n",
    "        # only supports a weighted sum of two inputs\n",
    "        assert (len(inputs) == 2)\n",
    "        # ((1-a) * input1) + (a * input2)\n",
    "        output = ((1.0 - self.alpha) * inputs[0]) + (self.alpha * inputs[1])\n",
    "        return output\n",
    "\n",
    "class LeakyConv2D(layers.Layer):\n",
    "    def __init__(self, channels, kernel=(5,5), strides=(1,1)):\n",
    "        super(LeakyConv2D, self).__init__()\n",
    "        self.Conv = layers.Conv2D(channels, kernel, strides, padding ='same', use_bias=False)\n",
    "        self.Norm = layers.BatchNormalization()\n",
    "        self.ReLU = layers.LeakyReLU()\n",
    "\n",
    "    def call(self, inputs):\n",
    "        x = self.Conv(inputs)\n",
    "        x = self.Norm(x)\n",
    "        out = self.ReLU(x)\n",
    "\n",
    "        return out\n",
    "\n",
    "class LeakyConv2DTranspose(layers.Layer):\n",
    "    def __init__(self, channels, kernel=(5,5), strides=(1,1)):\n",
    "        super(LeakyConv2DTranspose, self).__init__()\n",
    "        self.Conv = layers.Conv2DTranspose(channels, kernel, strides, padding ='same', use_bias=False)\n",
    "        self.Norm = layers.BatchNormalization()\n",
    "        self.ReLU = layers.LeakyReLU()\n",
    "\n",
    "    def call(self, inputs):\n",
    "        x = self.Conv(inputs)\n",
    "        x = self.Norm(x)\n",
    "        out = self.ReLU(x)\n",
    "\n",
    "        return out\n",
    "\n",
    "class LabelEmbedding(layers.Layer):\n",
    "    def __init__(self, out_shape, label_dim=10, embed_size=50, label_size=1):\n",
    "        super(LabelEmbedding, self).__init__()\n",
    "        self.Embedding = layers.Embedding(label_dim, embed_size ,input_length=label_size) \n",
    "        self.Flatten = layers.Flatten()\n",
    "        self.Dense = layers.Dense(np.prod(out_shape))\n",
    "        self.Reshape = layers.Reshape(out_shape)\n",
    "        \n",
    "    def call(self, inputs):\n",
    "\n",
    "        x = self.Embedding(inputs)\n",
    "        x = self.Flatten(x)\n",
    "        x = self.Dense(x)\n",
    "        out = self.Reshape(x)\n",
    "\n",
    "        return out\n",
    "\n",
    "\n"
   ]
  },
  {
   "cell_type": "markdown",
   "metadata": {
    "id": "lNaeGnesNN69"
   },
   "source": [
    "#Model"
   ]
  },
  {
   "cell_type": "markdown",
   "metadata": {
    "id": "JWEoXEh-NSXX"
   },
   "source": [
    "##Generator"
   ]
  },
  {
   "cell_type": "code",
   "execution_count": 7,
   "metadata": {
    "id": "Fx2XfENw-8bL"
   },
   "outputs": [],
   "source": [
    "def generator_model():\n",
    "    \n",
    "    input_shape=(noise_dim,)\n",
    "    input1 =  layers.Input(input_shape)\n",
    "\n",
    "    x = layers.Dense(WIDTH*HEIGHT*32, use_bias = False)(input1)\n",
    "    x = layers.BatchNormalization()(x)\n",
    "    x = layers.LeakyReLU()(x)\n",
    "\n",
    "    label = layers.Input(1,)\n",
    "    y = LabelEmbedding((WIDTH*HEIGHT*32,),LABEL_DIM)(label)\n",
    "\n",
    "    x = layers.Concatenate()((x,y))\n",
    "\n",
    "    x = layers.Reshape((WIDTH,HEIGHT,64))(x)\n",
    " \n",
    "    x = LeakyConv2DTranspose(64, strides = (2,2))(x)\n",
    "\n",
    "    x = LeakyConv2DTranspose(64)(x)\n",
    "\n",
    "    x = layers.Conv2DTranspose(CHANNELS, (5, 5), strides=(  1, 1), padding='same', use_bias=False)(x)\n",
    "    \n",
    "    model = tf.keras.Model([input1,label],x)\n",
    "    print(\"Generator model created succesfully\")\n",
    "    return model"
   ]
  },
  {
   "cell_type": "code",
   "execution_count": 8,
   "metadata": {
    "id": "YDyQpqvFEl2s"
   },
   "outputs": [],
   "source": [
    "def generator_expand(old_gen):\n",
    "    input = old_gen.inputs\n",
    "    x1 = old_gen.layers[-1].output\n",
    "    x1 = upsample(x1)\n",
    "\n",
    "    x2 = old_gen.layers[-1].input\n",
    "    \n",
    "    x2 = LeakyConv2DTranspose(64, strides = (2,2))(x2)\n",
    "    x2 = LeakyConv2DTranspose(64)(x2)\n",
    "\n",
    "    x2 = layers.Conv2DTranspose(CHANNELS, (5, 5), strides=(  1, 1), padding='same', use_bias=False)(x2)\n",
    "\n",
    "    out = WeightedSum()([x1,x2])\n",
    "    \n",
    "    model_weighted = tf.keras.Model(input,out)\n",
    "    model = tf.keras.Model(input,x2)\n",
    "    print(\"Generator model expanded succesfully\")\n",
    "    return model_weighted, model"
   ]
  },
  {
   "cell_type": "code",
   "execution_count": 9,
   "metadata": {
    "colab": {
     "base_uri": "https://localhost:8080/",
     "height": 1000
    },
    "id": "pQOAcjfeFoUt",
    "outputId": "9673350c-4c2d-4189-d36d-ac16822ea480"
   },
   "outputs": [
    {
     "name": "stdout",
     "output_type": "stream",
     "text": [
      "Generator model created succesfully\n",
      "Model: \"functional_1\"\n",
      "__________________________________________________________________________________________________\n",
      "Layer (type)                    Output Shape         Param #     Connected to                     \n",
      "==================================================================================================\n",
      "input_1 (InputLayer)            [(None, 100)]        0                                            \n",
      "__________________________________________________________________________________________________\n",
      "dense (Dense)                   (None, 1568)         156800      input_1[0][0]                    \n",
      "__________________________________________________________________________________________________\n",
      "batch_normalization (BatchNorma (None, 1568)         6272        dense[0][0]                      \n",
      "__________________________________________________________________________________________________\n",
      "input_2 (InputLayer)            [(None, 1)]          0                                            \n",
      "__________________________________________________________________________________________________\n",
      "leaky_re_lu (LeakyReLU)         (None, 1568)         0           batch_normalization[0][0]        \n",
      "__________________________________________________________________________________________________\n",
      "label_embedding (LabelEmbedding (None, 1568)         80468       input_2[0][0]                    \n",
      "__________________________________________________________________________________________________\n",
      "concatenate (Concatenate)       (None, 3136)         0           leaky_re_lu[0][0]                \n",
      "                                                                 label_embedding[0][0]            \n",
      "__________________________________________________________________________________________________\n",
      "reshape_1 (Reshape)             (None, 7, 7, 64)     0           concatenate[0][0]                \n",
      "__________________________________________________________________________________________________\n",
      "leaky_conv2d_transpose (LeakyCo (None, 14, 14, 64)   102656      reshape_1[0][0]                  \n",
      "__________________________________________________________________________________________________\n",
      "leaky_conv2d_transpose_1 (Leaky (None, 14, 14, 64)   102656      leaky_conv2d_transpose[0][0]     \n",
      "__________________________________________________________________________________________________\n",
      "conv2d_transpose_2 (Conv2DTrans (None, 14, 14, 1)    1600        leaky_conv2d_transpose_1[0][0]   \n",
      "==================================================================================================\n",
      "Total params: 450,452\n",
      "Trainable params: 447,060\n",
      "Non-trainable params: 3,392\n",
      "__________________________________________________________________________________________________\n",
      "Generator model expanded succesfully\n",
      "Model: \"functional_3\"\n",
      "__________________________________________________________________________________________________\n",
      "Layer (type)                    Output Shape         Param #     Connected to                     \n",
      "==================================================================================================\n",
      "input_1 (InputLayer)            [(None, 100)]        0                                            \n",
      "__________________________________________________________________________________________________\n",
      "dense (Dense)                   (None, 1568)         156800      input_1[0][0]                    \n",
      "__________________________________________________________________________________________________\n",
      "batch_normalization (BatchNorma (None, 1568)         6272        dense[0][0]                      \n",
      "__________________________________________________________________________________________________\n",
      "input_2 (InputLayer)            [(None, 1)]          0                                            \n",
      "__________________________________________________________________________________________________\n",
      "leaky_re_lu (LeakyReLU)         (None, 1568)         0           batch_normalization[0][0]        \n",
      "__________________________________________________________________________________________________\n",
      "label_embedding (LabelEmbedding (None, 1568)         80468       input_2[0][0]                    \n",
      "__________________________________________________________________________________________________\n",
      "concatenate (Concatenate)       (None, 3136)         0           leaky_re_lu[0][0]                \n",
      "                                                                 label_embedding[0][0]            \n",
      "__________________________________________________________________________________________________\n",
      "reshape_1 (Reshape)             (None, 7, 7, 64)     0           concatenate[0][0]                \n",
      "__________________________________________________________________________________________________\n",
      "leaky_conv2d_transpose (LeakyCo (None, 14, 14, 64)   102656      reshape_1[0][0]                  \n",
      "__________________________________________________________________________________________________\n",
      "leaky_conv2d_transpose_1 (Leaky (None, 14, 14, 64)   102656      leaky_conv2d_transpose[0][0]     \n",
      "__________________________________________________________________________________________________\n",
      "leaky_conv2d_transpose_2 (Leaky (None, 28, 28, 64)   102656      leaky_conv2d_transpose_1[0][0]   \n",
      "__________________________________________________________________________________________________\n",
      "conv2d_transpose_2 (Conv2DTrans (None, 14, 14, 1)    1600        leaky_conv2d_transpose_1[0][0]   \n",
      "__________________________________________________________________________________________________\n",
      "leaky_conv2d_transpose_3 (Leaky (None, 28, 28, 64)   102656      leaky_conv2d_transpose_2[0][0]   \n",
      "__________________________________________________________________________________________________\n",
      "up_sampling2d (UpSampling2D)    (None, 28, 28, 1)    0           conv2d_transpose_2[0][0]         \n",
      "__________________________________________________________________________________________________\n",
      "conv2d_transpose_5 (Conv2DTrans (None, 28, 28, 1)    1600        leaky_conv2d_transpose_3[0][0]   \n",
      "__________________________________________________________________________________________________\n",
      "weighted_sum (WeightedSum)      (None, 28, 28, 1)    1           up_sampling2d[0][0]              \n",
      "                                                                 conv2d_transpose_5[0][0]         \n",
      "==================================================================================================\n",
      "Total params: 657,365\n",
      "Trainable params: 653,717\n",
      "Non-trainable params: 3,648\n",
      "__________________________________________________________________________________________________\n"
     ]
    },
    {
     "data": {
      "image/png": "[encoded data removed]",
      "text/plain": [
       "<IPython.core.display.Image object>"
      ]
     },
     "execution_count": 9,
     "metadata": {},
     "output_type": "execute_result"
    }
   ],
   "source": [
    "gen = generator_model()\n",
    "gen.summary()\n",
    "tf.keras.utils.plot_model(gen,to_file=\"gen.png\")\n",
    "\n",
    "new_gen,_ = generator_expand(gen)\n",
    "new_gen.summary()\n",
    "tf.keras.utils.plot_model(new_gen,to_file=\"gen_exp.png\")"
   ]
  },
  {
   "cell_type": "markdown",
   "metadata": {
    "id": "eFW-tuM6bFCu"
   },
   "source": [
    "##Discriminator"
   ]
  },
  {
   "cell_type": "code",
   "execution_count": 10,
   "metadata": {
    "id": "a3MkhVHWauEg"
   },
   "outputs": [],
   "source": [
    "def discriminator_model():\n",
    "    input_shape = (WIDTH*2,HEIGHT*2,CHANNELS)\n",
    "    input1 = layers.Input(input_shape)\n",
    "\n",
    "    x = LeakyConv2D(1)(input1)\n",
    "\n",
    "    label = layers.Input(1)\n",
    "\n",
    "    y = LabelEmbedding((WIDTH*2,HEIGHT*2,CHANNELS,),LABEL_DIM)(label)\n",
    "\n",
    "    x = layers.Concatenate()((x,y))\n",
    "\n",
    "    x = LeakyConv2D(64)(x)\n",
    "    x = LeakyConv2D(64,strides = (2,2))(x)\n",
    "\n",
    "    x = layers.Flatten()(x)\n",
    "    x = layers.Dense(1)(x)\n",
    "    \n",
    "    model = tf.keras.Model((input1,label),x)\n",
    "    print(\"Discriminator model created succesfully\")\n",
    "    return model"
   ]
  },
  {
   "cell_type": "code",
   "execution_count": 11,
   "metadata": {
    "id": "4YsyKyFALF27"
   },
   "outputs": [],
   "source": [
    "def discriminator_expand(old_disc):\n",
    "    size = old_disc.inputs[0].shape[1]*2\n",
    "    input_shape = (size,size,CHANNELS)\n",
    "\n",
    "    input1 = layers.Input(input_shape)\n",
    "    x1 = LeakyConv2D(1)(input1)\n",
    "\n",
    "    label = layers.Input(1)\n",
    "    y1 = LabelEmbedding((size,size,CHANNELS,),LABEL_DIM)(label)\n",
    "\n",
    "    x1 = layers.Concatenate()((x1,y1))\n",
    "    x1 = LeakyConv2D(64)(x1)\n",
    "    x1 = LeakyConv2D(64, strides=(2,2))(x1)\n",
    "\n",
    "    x2 = downsample(input1)\n",
    "    x2 = old_disc.layers[2](x2)\n",
    "\n",
    "    y2 = old_disc.layers[3](label)\n",
    "    \n",
    "    x2 = old_disc.layers[4]((x2,y2))\n",
    "    x2 = old_disc.layers[5](x2)\n",
    "\n",
    "    x2 = WeightedSum()((x2,x1))\n",
    "\n",
    "    for old_layer in old_disc.layers[6:]:\n",
    "        x1 = old_layer(x1)\n",
    "        x2 = old_layer(x2)\n",
    "\n",
    "    model_weighted = tf.keras.Model([input1,label],x2)\n",
    "    model = tf.keras.Model([input1,label],x1)\n",
    "    print(\"Discriminator model expanded succesfully\")\n",
    "    return model_weighted, model\n"
   ]
  },
  {
   "cell_type": "code",
   "execution_count": 12,
   "metadata": {
    "colab": {
     "base_uri": "https://localhost:8080/",
     "height": 1000
    },
    "id": "T649HKFMMuAW",
    "outputId": "9d5eb1b2-62aa-40e8-b724-2ac6c961649c"
   },
   "outputs": [
    {
     "name": "stdout",
     "output_type": "stream",
     "text": [
      "Discriminator model created succesfully\n",
      "Model: \"functional_7\"\n",
      "__________________________________________________________________________________________________\n",
      "Layer (type)                    Output Shape         Param #     Connected to                     \n",
      "==================================================================================================\n",
      "input_3 (InputLayer)            [(None, 14, 14, 1)]  0                                            \n",
      "__________________________________________________________________________________________________\n",
      "input_4 (InputLayer)            [(None, 1)]          0                                            \n",
      "__________________________________________________________________________________________________\n",
      "leaky_conv2d (LeakyConv2D)      (None, 14, 14, 1)    29          input_3[0][0]                    \n",
      "__________________________________________________________________________________________________\n",
      "label_embedding_1 (LabelEmbeddi (None, 14, 14, 1)    10496       input_4[0][0]                    \n",
      "__________________________________________________________________________________________________\n",
      "concatenate_1 (Concatenate)     (None, 14, 14, 2)    0           leaky_conv2d[0][0]               \n",
      "                                                                 label_embedding_1[0][0]          \n",
      "__________________________________________________________________________________________________\n",
      "leaky_conv2d_1 (LeakyConv2D)    (None, 14, 14, 64)   3456        concatenate_1[0][0]              \n",
      "__________________________________________________________________________________________________\n",
      "leaky_conv2d_2 (LeakyConv2D)    (None, 7, 7, 64)     102656      leaky_conv2d_1[0][0]             \n",
      "__________________________________________________________________________________________________\n",
      "flatten_2 (Flatten)             (None, 3136)         0           leaky_conv2d_2[0][0]             \n",
      "__________________________________________________________________________________________________\n",
      "dense_3 (Dense)                 (None, 1)            3137        flatten_2[0][0]                  \n",
      "==================================================================================================\n",
      "Total params: 119,774\n",
      "Trainable params: 119,516\n",
      "Non-trainable params: 258\n",
      "__________________________________________________________________________________________________\n",
      "Discriminator model expanded succesfully\n",
      "Model: \"functional_9\"\n",
      "__________________________________________________________________________________________________\n",
      "Layer (type)                    Output Shape         Param #     Connected to                     \n",
      "==================================================================================================\n",
      "input_5 (InputLayer)            [(None, 28, 28, 1)]  0                                            \n",
      "__________________________________________________________________________________________________\n",
      "input_6 (InputLayer)            [(None, 1)]          0                                            \n",
      "__________________________________________________________________________________________________\n",
      "average_pooling2d (AveragePooli (None, 14, 14, 1)    0           input_5[0][0]                    \n",
      "__________________________________________________________________________________________________\n",
      "leaky_conv2d_3 (LeakyConv2D)    (None, 28, 28, 1)    29          input_5[0][0]                    \n",
      "__________________________________________________________________________________________________\n",
      "label_embedding_2 (LabelEmbeddi (None, 28, 28, 1)    40484       input_6[0][0]                    \n",
      "__________________________________________________________________________________________________\n",
      "leaky_conv2d (LeakyConv2D)      (None, 14, 14, 1)    29          average_pooling2d[0][0]          \n",
      "__________________________________________________________________________________________________\n",
      "label_embedding_1 (LabelEmbeddi (None, 14, 14, 1)    10496       input_6[0][0]                    \n",
      "__________________________________________________________________________________________________\n",
      "concatenate_2 (Concatenate)     (None, 28, 28, 2)    0           leaky_conv2d_3[0][0]             \n",
      "                                                                 label_embedding_2[0][0]          \n",
      "__________________________________________________________________________________________________\n",
      "concatenate_1 (Concatenate)     (None, 14, 14, 2)    0           leaky_conv2d[1][0]               \n",
      "                                                                 label_embedding_1[1][0]          \n",
      "__________________________________________________________________________________________________\n",
      "leaky_conv2d_4 (LeakyConv2D)    (None, 28, 28, 64)   3456        concatenate_2[0][0]              \n",
      "__________________________________________________________________________________________________\n",
      "leaky_conv2d_1 (LeakyConv2D)    (None, 14, 14, 64)   3456        concatenate_1[1][0]              \n",
      "__________________________________________________________________________________________________\n",
      "leaky_conv2d_5 (LeakyConv2D)    (None, 14, 14, 64)   102656      leaky_conv2d_4[0][0]             \n",
      "__________________________________________________________________________________________________\n",
      "weighted_sum_1 (WeightedSum)    (None, 14, 14, 64)   1           leaky_conv2d_1[1][0]             \n",
      "                                                                 leaky_conv2d_5[0][0]             \n",
      "__________________________________________________________________________________________________\n",
      "leaky_conv2d_2 (LeakyConv2D)    (None, 7, 7, 64)     102656      weighted_sum_1[0][0]             \n",
      "__________________________________________________________________________________________________\n",
      "flatten_2 (Flatten)             (None, 3136)         0           leaky_conv2d_2[2][0]             \n",
      "__________________________________________________________________________________________________\n",
      "dense_3 (Dense)                 (None, 1)            3137        flatten_2[2][0]                  \n",
      "==================================================================================================\n",
      "Total params: 266,400\n",
      "Trainable params: 265,884\n",
      "Non-trainable params: 516\n",
      "__________________________________________________________________________________________________\n"
     ]
    },
    {
     "data": {
      "image/png": "[encoded data removed]",
      "text/plain": [
       "<IPython.core.display.Image object>"
      ]
     },
     "execution_count": 12,
     "metadata": {},
     "output_type": "execute_result"
    }
   ],
   "source": [
    "disc = discriminator_model()\n",
    "\n",
    "disc.summary()\n",
    "tf.keras.utils.plot_model(disc,to_file=\"disc.png\")\n",
    "\n",
    "new_disc, disc = discriminator_expand(disc)\n",
    "\n",
    "new_disc.summary()\n",
    "tf.keras.utils.plot_model(disc,to_file=\"disc_exp.png\")"
   ]
  },
  {
   "cell_type": "markdown",
   "metadata": {
    "id": "iyU5bXz3bgmS"
   },
   "source": [
    "#Optimizer & Losses"
   ]
  },
  {
   "cell_type": "code",
   "execution_count": 13,
   "metadata": {
    "id": "2S9zKBdINM0g"
   },
   "outputs": [],
   "source": [
    "#@tf.function\n",
    "def generator_loss(fake_output):\n",
    "    return tf.reduce_sum(fake_output)"
   ]
  },
  {
   "cell_type": "code",
   "execution_count": 14,
   "metadata": {
    "id": "j7dq5wuTbLa_"
   },
   "outputs": [],
   "source": [
    "#@tf.function\n",
    "def discriminator_loss(real_output, fake_output, penalty = 0):\n",
    "    return tf.reduce_sum(real_output - fake_output) + penalty"
   ]
  },
  {
   "cell_type": "code",
   "execution_count": 15,
   "metadata": {
    "id": "dflOvHECbj0V"
   },
   "outputs": [],
   "source": [
    "c = 0.1\n",
    "generator_optimizer = tf.keras.optimizers.RMSprop(1e-4)\n",
    "#discriminator_optimizer = tf.keras.optimizers.RMSprop(1e-4,clipnorm = c) #using clipnorm to satisfy WGAN requirements\n",
    "discriminator_optimizer = tf.keras.optimizers.RMSprop(1e-4)\n",
    "\n",
    "#generator_optimizer = tf.keras.optimizers.Adam(learning_rate=0.001, beta_1=0.0, beta_2=0.99, epsilon=1e-08)\n",
    "#discriminator_optimizer = tf.keras.optimizers.Adam(learning_rate=0.001, beta_1=0.0, beta_2=0.99, epsilon=1e-08)"
   ]
  },
  {
   "cell_type": "markdown",
   "metadata": {
    "id": "QPRne7EAb3Ng"
   },
   "source": [
    "#Training Loop"
   ]
  },
  {
   "cell_type": "code",
   "execution_count": 16,
   "metadata": {
    "id": "dRMANLW4b82f"
   },
   "outputs": [],
   "source": [
    "noise_dim = 100\n",
    "num_examples_to_generate = 16\n",
    "\n",
    "# You will reuse this seed overtime (so it's easier)\n",
    "# to visualize progress in the animated GIF)\n",
    "noise = tf.random.normal([num_examples_to_generate, noise_dim])\n",
    "labels = np.array(range(num_examples_to_generate))%LABEL_DIM\n",
    "labels = tf.convert_to_tensor(labels,dtype=noise.dtype)\n",
    "\n",
    "seed = (noise, labels)"
   ]
  },
  {
   "cell_type": "code",
   "execution_count": 17,
   "metadata": {
    "id": "34dyUG36VYM3"
   },
   "outputs": [],
   "source": [
    "#@tf.function\n",
    "def train_step(images,labels):\n",
    "    noise = tf.random.normal([BATCH_SIZE, noise_dim])\n",
    "\n",
    "    with tf.GradientTape() as gen_tape, tf.GradientTape() as disc_tape:\n",
    "        generated_images = generator((noise,labels), training=True)\n",
    "\n",
    "        real_output = discriminator((images,labels), training=True)\n",
    "        fake_output = discriminator((generated_images,labels), training=True)\n",
    "\n",
    "        gen_loss = generator_loss(fake_output)\n",
    "        disc_loss = discriminator_loss(real_output, fake_output)\n",
    "\n",
    "    gradients_of_generator = gen_tape.gradient(gen_loss, generator.trainable_variables)\n",
    "    gradients_of_discriminator = disc_tape.gradient(disc_loss, discriminator.trainable_variables)\n",
    "\n",
    "    generator_optimizer.apply_gradients(zip(gradients_of_generator, generator.trainable_variables))\n",
    "    discriminator_optimizer.apply_gradients(zip(gradients_of_discriminator, discriminator.trainable_variables))"
   ]
  },
  {
   "cell_type": "code",
   "execution_count": 18,
   "metadata": {
    "id": "ReeYXO-Z0leJ"
   },
   "outputs": [],
   "source": [
    "#@tf.function #cant use same tf function with different model shapes\n",
    "def train_step_gp(images,labels):\n",
    "    noise = tf.random.normal([images.shape[0], noise_dim])\n",
    "    e = tf.random.uniform([images.shape[0],1,1,1],minval = 0,maxval = 1)\n",
    "\n",
    "    with tf.GradientTape(persistent=True) as tape:\n",
    "        with tf.GradientTape() as penalty_tape:\n",
    "            generated_images = generator((noise,labels), training=True)\n",
    "\n",
    "            weighted_images = e*images + (1-e)*generated_images\n",
    "\n",
    "            weighted_output = discriminator((weighted_images,labels), training = True)\n",
    "\n",
    "        real_output = discriminator((images,labels), training = True)\n",
    "        fake_output = discriminator((generated_images,labels), training = True)\n",
    "\n",
    "        penalty = penalty_tape.gradient(weighted_output,weighted_images) #gradient\n",
    "        penalty = tf.sqrt(tf.reduce_sum(tf.square(penalty), axis=[1, 2, 3])) #norm\n",
    "        penalty = 100*tf.reduce_mean(tf.math.square(penalty-1)) # k*(norm -1)^2\n",
    "\n",
    "        gen_loss = generator_loss(fake_output)\n",
    "        disc_loss = discriminator_loss(real_output, fake_output, penalty)\n",
    "\n",
    "\n",
    "    gradients_of_generator = tape.gradient(gen_loss, generator.trainable_variables)\n",
    "    gradients_of_discriminator = tape.gradient(disc_loss, discriminator.trainable_variables)\n",
    "\n",
    "    generator_optimizer.apply_gradients(zip(gradients_of_generator, generator.trainable_variables))\n",
    "    discriminator_optimizer.apply_gradients(zip(gradients_of_discriminator, discriminator.trainable_variables))"
   ]
  },
  {
   "cell_type": "code",
   "execution_count": 19,
   "metadata": {
    "id": "KBNyjvi6eyuD"
   },
   "outputs": [],
   "source": [
    "def train(dataset,Epochs):\n",
    "\n",
    "    print(\"Starting training\")\n",
    "    for epoch in range(Epochs):\n",
    "        start = time.time()\n",
    "\n",
    "        #print(\"Epoch {}\".format(epoch+1))\n",
    "\n",
    "        for image_batch, label_batch in dataset:\n",
    "            #print(\".\",end=\"\")\n",
    "            train_step_gp(image_batch,label_batch)\n",
    "\n",
    "        # Produce images for the GIF as you go\n",
    "        display.clear_output(wait=True)\n",
    "        generate_and_save_images(epoch + 1,seed)\n",
    "        \n",
    "        print (\"Time for epoch {}/{} is {} sec\".format(epoch + 1,Epochs, time.time()-start))"
   ]
  },
  {
   "cell_type": "code",
   "execution_count": 20,
   "metadata": {
    "id": "LepPenYZhuBI"
   },
   "outputs": [],
   "source": [
    "def train_fade_in(dataset,Epochs):\n",
    "\n",
    "    print(\"Starting training with fade-in\")\n",
    "    for epoch in range(Epochs):\n",
    "        start = time.time()\n",
    "        #print(\"Epoch {}\".format(epoch+1))\n",
    "\n",
    "        alpha = (epoch+1)/Epochs #0 to 1\n",
    "        for image_batch, label_batch in dataset:\n",
    "            #print(\".\",end=\"\")\n",
    "            for layer in discriminator.layers:\n",
    "                if isinstance(layer,WeightedSum):\n",
    "                    tf.keras.backend.set_value(layer.alpha,alpha)\n",
    "            for layer in generator.layers:\n",
    "                if isinstance(layer,WeightedSum):\n",
    "                    tf.keras.backend.set_value(layer.alpha,alpha)\n",
    "            \n",
    "            train_step_gp(image_batch,label_batch)\n",
    "\n",
    "\n",
    "        # Produce images for the GIF as you go\n",
    "        display.clear_output(wait=True)\n",
    "        generate_and_save_images(epoch + 1,seed)\n",
    "        \n",
    "        print (\"Time for epoch {}/{} is {} sec\".format(epoch + 1,Epochs, time.time()-start))"
   ]
  },
  {
   "cell_type": "code",
   "execution_count": 21,
   "metadata": {
    "id": "miYsdb8BghMN"
   },
   "outputs": [],
   "source": [
    "def generate_and_save_images(epoch, test_input):\n",
    "    predictions = generator(test_input, training = False)\n",
    "    (examples, width, height, channels) = predictions.shape \n",
    "    \n",
    "    mode = 'RGB'\n",
    "    if channels==1:\n",
    "        mode = 'L'\n",
    "        predictions = np.squeeze(predictions)\n",
    "        \n",
    "    result = PIL.Image.new(mode,(4*width,4*height))\n",
    "    \n",
    "    for i in range(min(16,examples)):\n",
    "        image = np.array((predictions[i]*127.5+127.5)).clip(0,255).squeeze().astype(\"uint8\")\n",
    "        image = PIL.Image.fromarray(image,mode)\n",
    "        result.paste(im=image,box=(width*(i//4),height*(i%4)))\n",
    "    \n",
    "    result.save('cg_gan/nn_{}_step_{}_epoch_{:04d}.png'.format(NN,TRAIN,epoch),\"PNG\")\n",
    "    plt.imshow(np.asarray(result),cmap=\"gray\")\n",
    "    plt.show()"
   ]
  },
  {
   "cell_type": "markdown",
   "metadata": {
    "id": "UAn0BMvCOKw8"
   },
   "source": [
    "### Testing"
   ]
  },
  {
   "cell_type": "code",
   "execution_count": 22,
   "metadata": {
    "colab": {
     "base_uri": "https://localhost:8080/",
     "height": 340
    },
    "id": "VPpIwPQuKRpk",
    "outputId": "9457d59c-45cd-44ca-ac24-047b42ac22ae"
   },
   "outputs": [
    {
     "name": "stdout",
     "output_type": "stream",
     "text": [
      "(1, 4, 4, 1)\n",
      "<class 'tensorflow.python.framework.ops.EagerTensor'>\n",
      "<class 'tensorflow.python.framework.ops.EagerTensor'>\n"
     ]
    },
    {
     "data": {
      "image/png": "[encoded data removed]",
      "text/plain": [
       "<Figure size 432x288 with 1 Axes>"
      ]
     },
     "metadata": {
      "needs_background": "light"
     },
     "output_type": "display_data"
    },
    {
     "name": "stdout",
     "output_type": "stream",
     "text": [
      "Wall time: 67.8 ms\n"
     ]
    }
   ],
   "source": [
    "%%time\n",
    "for i in range(10):\n",
    "    image = tf.random.normal([1,2,2,1])\n",
    "    upsize = upsample(image)\n",
    "print(upsize.shape)\n",
    "print(type(upsize))\n",
    "print(type(image))\n",
    "\n",
    "(width,height,channels) = train_images[0].shape\n",
    "mode = 'RGB'\n",
    "if channels==1:\n",
    "    mode = 'L'\n",
    "result = PIL.Image.new(mode,(3*width,3*height))\n",
    "\n",
    "for i in range(3):\n",
    "    image = downsample(upsample(train_images[i:i+1]))\n",
    "    image = np.array((image*127.5+127.5)).clip(0,255).squeeze().astype(\"uint8\")\n",
    "    image = PIL.Image.fromarray(image,mode)\n",
    "    result.paste(im=image,box=(width*0,height*i))\n",
    "    \n",
    "    image = train_images[i:i+1]\n",
    "    image = np.array((image*127.5+127.5)).clip(0,255).squeeze().astype(\"uint8\")\n",
    "    image = PIL.Image.fromarray(image,mode)\n",
    "    result.paste(im=image,box=(width*1,height*i))\n",
    "    \n",
    "    image = upsample(downsample(train_images[i:i+1]))\n",
    "    image = np.array((image*127.5+127.5)).clip(0,255).squeeze().astype(\"uint8\")\n",
    "    image = PIL.Image.fromarray(image,mode)\n",
    "    result.paste(im=image,box=(width*2,height*i))\n",
    "\n",
    "plt.imshow(np.asarray(result),cmap=\"gray\")\n",
    "plt.axis(\"off\")\n",
    "plt.show()"
   ]
  },
  {
   "cell_type": "code",
   "execution_count": 23,
   "metadata": {},
   "outputs": [
    {
     "data": {
      "image/png": "[encoded data removed]",
      "text/plain": [
       "<Figure size 432x288 with 1 Axes>"
      ]
     },
     "metadata": {
      "needs_background": "light"
     },
     "output_type": "display_data"
    }
   ],
   "source": [
    "(width,height,channels) = train_images[0].shape\n",
    "mode = 'RGB'\n",
    "if channels==1:\n",
    "    mode = 'L'\n",
    "result = PIL.Image.new(mode,(int(3.5*width),2*height))\n",
    "\n",
    "for i in range(4):\n",
    "    image = downsample(train_images[i:i+1])\n",
    "    image = np.array((image*127.5+127.5)).clip(0,255).squeeze().astype(\"uint8\")\n",
    "    image = PIL.Image.fromarray(image,mode)\n",
    "    result.paste(im=image,box=(width*0,int(height*i/2)))\n",
    "    \n",
    "for i in range(2):\n",
    "    image = train_images[i:i+1]\n",
    "    image = np.array((image*127.5+127.5)).clip(0,255).squeeze().astype(\"uint8\")\n",
    "    image = PIL.Image.fromarray(image,mode)\n",
    "    result.paste(im=image,box=(int(width/2),height*i))\n",
    "\n",
    "i=0\n",
    "image = upsample(train_images[i:i+1])\n",
    "image = np.array((image*127.5+127.5)).clip(0,255).squeeze().astype(\"uint8\")\n",
    "image = PIL.Image.fromarray(image,mode)\n",
    "result.paste(im=image,box=(int(width*3/2),0))\n",
    "\n",
    "plt.imshow(np.asarray(result),cmap=\"gray\")\n",
    "plt.axis(\"off\")\n",
    "plt.show()"
   ]
  },
  {
   "cell_type": "markdown",
   "metadata": {
    "id": "YXXvUaDAb9Xo"
   },
   "source": [
    "#Model training"
   ]
  },
  {
   "cell_type": "code",
   "execution_count": 24,
   "metadata": {
    "id": "-92xFeDpnBYM"
   },
   "outputs": [],
   "source": [
    "try:\n",
    "    NN = NN + 1\n",
    "except:\n",
    "    og_train_step = train_step_gp\n",
    "    NN = 0\n",
    "         "
   ]
  },
  {
   "cell_type": "code",
   "execution_count": 9,
   "metadata": {},
   "outputs": [],
   "source": [
    "try:\n",
    "    os.mkdir(\"cg_gan\")\n",
    "except:\n",
    "    pass"
   ]
  },
  {
   "cell_type": "code",
   "execution_count": null,
   "metadata": {
    "colab": {
     "base_uri": "https://localhost:8080/",
     "height": 266
    },
    "id": "YRBjXKypb9vF",
    "outputId": "129899fc-c9fe-48fa-f8e5-3b68bef70bbb"
   },
   "outputs": [
    {
     "data": {
      "image/png": "[encoded data removed]",
      "text/plain": [
       "<Figure size 432x288 with 1 Axes>"
      ]
     },
     "metadata": {
      "needs_background": "light"
     },
     "output_type": "display_data"
    },
    {
     "name": "stdout",
     "output_type": "stream",
     "text": [
      "Time for epoch 10/20 is 181.69671034812927 sec\n"
     ]
    }
   ],
   "source": [
    "#OG model\n",
    "TRAIN = 0\n",
    "train_step_gp = tf.function()(og_train_step)\n",
    "\n",
    "generator = generator_model()\n",
    "discriminator = discriminator_model()\n",
    "\n",
    "train(train_dataset14,20)\n",
    "TRAIN = TRAIN+1\n",
    "\n",
    "#1nd expansion\n",
    "generator,g = generator_expand(generator)\n",
    "discriminator,d = discriminator_expand(discriminator)\n",
    "\n",
    "train_step_gp = tf.function()(og_train_step)\n",
    "\n",
    "train_fade_in(train_dataset28,10)\n",
    "TRAIN = TRAIN+1\n",
    "\n",
    "train(train_dataset28,20)\n",
    "TRAIN = TRAIN+1\n",
    "\n",
    "#2nd expansion\n",
    "generator,g = generator_expand(g)\n",
    "discriminator,d = discriminator_expand(d)\n",
    "\n",
    "train_step_gp = tf.function()(og_train_step)\n",
    "\n",
    "train_fade_in(train_dataset56,10)\n",
    "TRAIN = TRAIN+1\n",
    "\n",
    "train(train_dataset56,20)\n",
    "TRAIN = TRAIN+1"
   ]
  },
  {
   "cell_type": "code",
   "execution_count": null,
   "metadata": {
    "colab": {
     "base_uri": "https://localhost:8080/",
     "height": 1000
    },
    "id": "aBQ6Z52fY-ok",
    "outputId": "76b6bd78-0d02-4615-efaa-544e201ee2f4"
   },
   "outputs": [],
   "source": [
    "for i in range(LABEL_DIM):\n",
    "    seed = (noise,tf.ones(num_examples_to_generate)*i)\n",
    "\n",
    "    predictions = generator(seed, training=False)\n",
    "\n",
    "    fig = plt.figure(figsize=(4, 4))\n",
    "\n",
    "    for i in range(predictions.shape[0]):\n",
    "        plt.subplot(4, 4, i+1)\n",
    "        plt.imshow(predictions[i, :, :, 0] * 127.5 + 127.5, cmap='gray')\n",
    "        plt.axis('off')\n",
    "    plt.show()"
   ]
  },
  {
   "cell_type": "code",
   "execution_count": 12,
   "metadata": {},
   "outputs": [],
   "source": [
    "fp_in = \"cg_gan/nn_{}*.png\".format(NN)\n",
    "fp_out = \"cg_gan/nn_{}_scaled.gif\".format(NN)\n",
    "\n",
    "img, *imgs = [PIL.Image.open(f) for f in sorted(glob.glob(fp_in))]\n",
    "\n",
    "img = img.resize(imgs[-1].size, PIL.Image.ANTIALIAS)\n",
    "for i in range(len(imgs)):\n",
    "    imgs[i] = imgs[i].resize(imgs[-1].size, PIL.Image.ANTIALIAS)\n",
    "\n",
    "img.save(fp=fp_out, format='GIF', append_images=imgs,\n",
    "         save_all=True, duration=500, loop=0)"
   ]
  },
  {
   "cell_type": "code",
   "execution_count": 11,
   "metadata": {},
   "outputs": [],
   "source": [
    "NN = 1\n",
    "fp_in = \"cg_gan/nn_{}*.png\".format(NN)\n",
    "fp_out = \"cg_gan/nn_{}_real.gif\".format(NN)\n",
    "\n",
    "imgs = [PIL.Image.open(f) for f in sorted(glob.glob(fp_in))]\n",
    "\n",
    "result = PIL.Image.new(\"RGB\", imgs[-1].size, (0,0,0))\n",
    "for i in range(len(imgs)):\n",
    "    x = int(result.size[0]/2-imgs[i].size[0]/2)\n",
    "    y = int(result.size[1]/2-imgs[i].size[1]/2)\n",
    "    \n",
    "    aux = imgs[i].copy()\n",
    "    imgs[i] = result.copy()\n",
    "    imgs[i].paste(aux,box=(x,y))\n",
    "\n",
    "result.save(fp=fp_out, format='GIF', append_images=imgs,\n",
    "         save_all=True, duration=500, loop=0)"
   ]
  },
  {
   "cell_type": "code",
   "execution_count": null,
   "metadata": {},
   "outputs": [],
   "source": []
  }
 ],
 "metadata": {
  "accelerator": "GPU",
  "colab": {
   "authorship_tag": "ABX9TyPMuAqDsAgTisG39FXYPiQr",
   "collapsed_sections": [],
   "include_colab_link": true,
   "name": "coditional_grow_gan.ipynb",
   "provenance": [],
   "toc_visible": true
  },
  "kernelspec": {
   "display_name": "Python 3",
   "language": "python",
   "name": "python3"
  },
  "language_info": {
   "codemirror_mode": {
    "name": "ipython",
    "version": 3
   },
   "file_extension": ".py",
   "mimetype": "text/x-python",
   "name": "python",
   "nbconvert_exporter": "python",
   "pygments_lexer": "ipython3",
   "version": "3.8.10"
  }
 },
 "nbformat": 4,
 "nbformat_minor": 1
}
