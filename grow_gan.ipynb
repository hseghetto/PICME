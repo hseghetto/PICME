{
 "cells": [
  {
   "cell_type": "markdown",
   "metadata": {
    "colab_type": "text",
    "id": "view-in-github"
   },
   "source": [
    "<a href=\"https://colab.research.google.com/github/hseghetto/PICME-Deep-Learning/blob/main/grow_gan.ipynb\" target=\"_parent\"><img src=\"https://colab.research.google.com/assets/colab-badge.svg\" alt=\"Open In Colab\"/></a>"
   ]
  },
  {
   "cell_type": "code",
   "execution_count": 1,
   "metadata": {
    "id": "Cr_zhPMmMoUI"
   },
   "outputs": [],
   "source": [
    "import tensorflow as tf\n",
    "\n",
    "import glob\n",
    "import matplotlib.pyplot as plt\n",
    "import numpy as np\n",
    "import os\n",
    "import PIL\n",
    "from tensorflow.keras import layers\n",
    "import time\n",
    "\n",
    "from IPython import display"
   ]
  },
  {
   "cell_type": "code",
   "execution_count": 2,
   "metadata": {},
   "outputs": [],
   "source": [
    "tf.__version__\n",
    "physical_devices = tf.config.list_physical_devices('GPU')\n",
    "tf.config.experimental.set_memory_growth(physical_devices[0],True)"
   ]
  },
  {
   "cell_type": "markdown",
   "metadata": {
    "id": "9zNKbz7bM0Pg"
   },
   "source": [
    "#Loading dataset\n"
   ]
  },
  {
   "cell_type": "code",
   "execution_count": 3,
   "metadata": {
    "colab": {
     "base_uri": "https://localhost:8080/"
    },
    "id": "HMyXgWFbMv-q",
    "outputId": "fd0ae654-3b99-4a2f-c426-125ae581b349"
   },
   "outputs": [],
   "source": [
    "(train_images, train_labels), (_, _) = tf.keras.datasets.mnist.load_data()\n",
    "train_images = train_images.reshape(train_images.shape[0], 28, 28, 1).astype('float32')\n",
    "\n",
    "#(train_images, train_labels), (_, _) = tf.keras.datasets.cifar10.load_data()"
   ]
  },
  {
   "cell_type": "code",
   "execution_count": 4,
   "metadata": {},
   "outputs": [
    {
     "name": "stdout",
     "output_type": "stream",
     "text": [
      "(60000, 28, 28, 1)\n"
     ]
    }
   ],
   "source": [
    "train_images = (train_images - 127.5) / 127.5  # Normalize the images to [-1, 1]\n",
    "\n",
    "shape = train_images.shape\n",
    "print(shape)\n",
    "\n",
    "WIDTH = shape[-3]//4 #Smallest width to be used in generator, equivalente to 1/4 of the original image size\n",
    "HEIGHT = shape[-2]//4\n",
    "CHANNELS = shape[-1]"
   ]
  },
  {
   "cell_type": "code",
   "execution_count": 5,
   "metadata": {
    "colab": {
     "base_uri": "https://localhost:8080/"
    },
    "id": "RhtaEkJJabZZ",
    "outputId": "6f1e262c-1dee-4ddd-91f4-951c2fd11298"
   },
   "outputs": [
    {
     "name": "stdout",
     "output_type": "stream",
     "text": [
      "(10, 56, 56, 1)\n",
      "(10, 14, 14, 1)\n"
     ]
    }
   ],
   "source": [
    "upsample = tf.keras.layers.UpSampling2D(size=(2,2))\n",
    "downsample = tf.keras.layers.AveragePooling2D(pool_size=(2,2))\n",
    "\n",
    "print(upsample(train_images[0:10]).shape)\n",
    "print(downsample(train_images[0:10]).shape)"
   ]
  },
  {
   "cell_type": "code",
   "execution_count": 6,
   "metadata": {
    "id": "Yimn4c4mNJpG"
   },
   "outputs": [],
   "source": [
    "BUFFER_SIZE = 32000\n",
    "BATCH_SIZE = 32\n",
    "noise_dim = 100\n",
    "\n",
    "# Batch and shuffle the data\n",
    "train_dataset14 = tf.data.Dataset.from_tensor_slices(downsample(train_images)).shuffle(BUFFER_SIZE).batch(BATCH_SIZE)\n",
    "train_dataset28 = tf.data.Dataset.from_tensor_slices(train_images).shuffle(BUFFER_SIZE).batch(BATCH_SIZE)\n",
    "train_dataset56 = tf.data.Dataset.from_tensor_slices(upsample(train_images)).shuffle(BUFFER_SIZE).batch(BATCH_SIZE)"
   ]
  },
  {
   "cell_type": "code",
   "execution_count": 7,
   "metadata": {
    "id": "HgAbRCFG98A1"
   },
   "outputs": [],
   "source": [
    "class WeightedSum(tf.keras.layers.Add):\n",
    "    # init with default value\n",
    "    def __init__(self, alpha=0.0, **kwargs):\n",
    "        super(WeightedSum, self).__init__(**kwargs)\n",
    "        self.alpha = tf.keras.backend.variable(alpha, name='ws_alpha')\n",
    "\n",
    "    # output a weighted sum of inputs\n",
    "    def _merge_function(self, inputs):\n",
    "        # only supports a weighted sum of two inputs\n",
    "        assert (len(inputs) == 2)\n",
    "        # ((1-a) * input1) + (a * input2)\n",
    "        output = ((1.0 - self.alpha) * inputs[0]) + (self.alpha * inputs[1])\n",
    "        return output"
   ]
  },
  {
   "cell_type": "markdown",
   "metadata": {
    "id": "lNaeGnesNN69"
   },
   "source": [
    "#Model"
   ]
  },
  {
   "cell_type": "markdown",
   "metadata": {
    "id": "JWEoXEh-NSXX"
   },
   "source": [
    "##Generator"
   ]
  },
  {
   "cell_type": "code",
   "execution_count": 8,
   "metadata": {
    "id": "Fx2XfENw-8bL"
   },
   "outputs": [],
   "source": [
    "def generator_model():\n",
    "    \n",
    "    input_shape=(noise_dim,)\n",
    "    input1 =  layers.Input(input_shape)\n",
    "\n",
    "    x = layers.Dense(WIDTH*HEIGHT*16, use_bias = False)(input1)\n",
    "    x = layers.BatchNormalization()(x)\n",
    "    x = layers.LeakyReLU()(x)\n",
    "\n",
    "    x = layers.Reshape((WIDTH,HEIGHT,16))(x)\n",
    "\n",
    "    x = layers.Conv2DTranspose(16, (5, 5), strides=(1, 1), padding='same', use_bias=False)(x)\n",
    "    x = layers.BatchNormalization()(x)\n",
    "    x = layers.LeakyReLU()(x)\n",
    "\n",
    "    x = layers.Conv2DTranspose(16, (5, 5), strides=(2, 2), padding='same', use_bias=False)(x) # 7x7x128 -> 14x14x128\n",
    "    x = layers.BatchNormalization()(x)\n",
    "    x = layers.LeakyReLU()(x)\n",
    "\n",
    "    x = layers.Conv2DTranspose(CHANNELS, (5, 5), strides=(1, 1), padding='same', use_bias=False)(x) #to grayscale\n",
    "    \n",
    "\n",
    "    model = tf.keras.Model(input1,x)\n",
    "    return model"
   ]
  },
  {
   "cell_type": "code",
   "execution_count": 9,
   "metadata": {
    "id": "YDyQpqvFEl2s"
   },
   "outputs": [],
   "source": [
    "def generator_expand(old_gen):\n",
    "    \n",
    "    input_shape=(noise_dim,)\n",
    "    input1 =  layers.Input(input_shape)\n",
    "\n",
    "    x = input1\n",
    "    for old_layer in old_gen.layers[1:-1]:\n",
    "        x = old_layer(x)\n",
    "    \n",
    "    x1 = old_gen.layers[-1](x)\n",
    "    x1 = upsample(x1)\n",
    "  \n",
    "    x2 = layers.Conv2DTranspose(16, (5, 5), strides=(1, 1), padding='same', use_bias=False)(x)\n",
    "    x2 = layers.BatchNormalization()(x2)\n",
    "    x2 = layers.LeakyReLU()(x2)\n",
    "\n",
    "    x2 = layers.Conv2DTranspose(16, (5, 5), strides=(2, 2), padding='same', use_bias=False)(x2) # 14x14x64 -> 28x28x32\n",
    "    x2 = layers.BatchNormalization()(x2)\n",
    "    x2 = layers.LeakyReLU()(x2)\n",
    "\n",
    "    x2 = layers.Conv2DTranspose(CHANNELS, (5, 5), strides=(1, 1), padding='same', use_bias=False)(x2)\n",
    "\n",
    "    out = WeightedSum()([x1,x2])\n",
    "\n",
    "    model_weighted = tf.keras.Model(input1,out)\n",
    "    model = tf.keras.Model(input1,x2)\n",
    "    return model_weighted, model"
   ]
  },
  {
   "cell_type": "code",
   "execution_count": 10,
   "metadata": {
    "colab": {
     "base_uri": "https://localhost:8080/",
     "height": 1000
    },
    "id": "pQOAcjfeFoUt",
    "outputId": "496ab6a2-feb1-4e19-be32-6ca3502df194"
   },
   "outputs": [
    {
     "name": "stdout",
     "output_type": "stream",
     "text": [
      "Model: \"model\"\n",
      "_________________________________________________________________\n",
      " Layer (type)                Output Shape              Param #   \n",
      "=================================================================\n",
      " input_1 (InputLayer)        [(None, 100)]             0         \n",
      "                                                                 \n",
      " dense (Dense)               (None, 784)               78400     \n",
      "                                                                 \n",
      " batch_normalization (BatchN  (None, 784)              3136      \n",
      " ormalization)                                                   \n",
      "                                                                 \n",
      " leaky_re_lu (LeakyReLU)     (None, 784)               0         \n",
      "                                                                 \n",
      " reshape (Reshape)           (None, 7, 7, 16)          0         \n",
      "                                                                 \n",
      " conv2d_transpose (Conv2DTra  (None, 7, 7, 16)         6400      \n",
      " nspose)                                                         \n",
      "                                                                 \n",
      " batch_normalization_1 (Batc  (None, 7, 7, 16)         64        \n",
      " hNormalization)                                                 \n",
      "                                                                 \n",
      " leaky_re_lu_1 (LeakyReLU)   (None, 7, 7, 16)          0         \n",
      "                                                                 \n",
      " conv2d_transpose_1 (Conv2DT  (None, 14, 14, 16)       6400      \n",
      " ranspose)                                                       \n",
      "                                                                 \n",
      " batch_normalization_2 (Batc  (None, 14, 14, 16)       64        \n",
      " hNormalization)                                                 \n",
      "                                                                 \n",
      " leaky_re_lu_2 (LeakyReLU)   (None, 14, 14, 16)        0         \n",
      "                                                                 \n",
      " conv2d_transpose_2 (Conv2DT  (None, 14, 14, 1)        400       \n",
      " ranspose)                                                       \n",
      "                                                                 \n",
      "=================================================================\n",
      "Total params: 94,864\n",
      "Trainable params: 93,232\n",
      "Non-trainable params: 1,632\n",
      "_________________________________________________________________\n",
      "Model: \"model_1\"\n",
      "__________________________________________________________________________________________________\n",
      " Layer (type)                   Output Shape         Param #     Connected to                     \n",
      "==================================================================================================\n",
      " input_2 (InputLayer)           [(None, 100)]        0           []                               \n",
      "                                                                                                  \n",
      " dense (Dense)                  (None, 784)          78400       ['input_2[0][0]']                \n",
      "                                                                                                  \n",
      " batch_normalization (BatchNorm  (None, 784)         3136        ['dense[1][0]']                  \n",
      " alization)                                                                                       \n",
      "                                                                                                  \n",
      " leaky_re_lu (LeakyReLU)        (None, 784)          0           ['batch_normalization[1][0]']    \n",
      "                                                                                                  \n",
      " reshape (Reshape)              (None, 7, 7, 16)     0           ['leaky_re_lu[1][0]']            \n",
      "                                                                                                  \n",
      " conv2d_transpose (Conv2DTransp  (None, 7, 7, 16)    6400        ['reshape[1][0]']                \n",
      " ose)                                                                                             \n",
      "                                                                                                  \n",
      " batch_normalization_1 (BatchNo  (None, 7, 7, 16)    64          ['conv2d_transpose[1][0]']       \n",
      " rmalization)                                                                                     \n",
      "                                                                                                  \n",
      " leaky_re_lu_1 (LeakyReLU)      (None, 7, 7, 16)     0           ['batch_normalization_1[1][0]']  \n",
      "                                                                                                  \n",
      " conv2d_transpose_1 (Conv2DTran  (None, 14, 14, 16)  6400        ['leaky_re_lu_1[1][0]']          \n",
      " spose)                                                                                           \n",
      "                                                                                                  \n",
      " batch_normalization_2 (BatchNo  (None, 14, 14, 16)  64          ['conv2d_transpose_1[1][0]']     \n",
      " rmalization)                                                                                     \n",
      "                                                                                                  \n",
      " leaky_re_lu_2 (LeakyReLU)      (None, 14, 14, 16)   0           ['batch_normalization_2[1][0]']  \n",
      "                                                                                                  \n",
      " conv2d_transpose_3 (Conv2DTran  (None, 14, 14, 16)  6400        ['leaky_re_lu_2[1][0]']          \n",
      " spose)                                                                                           \n",
      "                                                                                                  \n",
      " batch_normalization_3 (BatchNo  (None, 14, 14, 16)  64          ['conv2d_transpose_3[0][0]']     \n",
      " rmalization)                                                                                     \n",
      "                                                                                                  \n",
      " leaky_re_lu_3 (LeakyReLU)      (None, 14, 14, 16)   0           ['batch_normalization_3[0][0]']  \n",
      "                                                                                                  \n",
      " conv2d_transpose_4 (Conv2DTran  (None, 28, 28, 16)  6400        ['leaky_re_lu_3[0][0]']          \n",
      " spose)                                                                                           \n",
      "                                                                                                  \n",
      " batch_normalization_4 (BatchNo  (None, 28, 28, 16)  64          ['conv2d_transpose_4[0][0]']     \n",
      " rmalization)                                                                                     \n",
      "                                                                                                  \n",
      " conv2d_transpose_2 (Conv2DTran  (None, 14, 14, 1)   400         ['leaky_re_lu_2[1][0]']          \n",
      " spose)                                                                                           \n",
      "                                                                                                  \n",
      " leaky_re_lu_4 (LeakyReLU)      (None, 28, 28, 16)   0           ['batch_normalization_4[0][0]']  \n",
      "                                                                                                  \n",
      " up_sampling2d (UpSampling2D)   (None, 28, 28, 1)    0           ['conv2d_transpose_2[1][0]']     \n",
      "                                                                                                  \n",
      " conv2d_transpose_5 (Conv2DTran  (None, 28, 28, 1)   400         ['leaky_re_lu_4[0][0]']          \n",
      " spose)                                                                                           \n",
      "                                                                                                  \n",
      " weighted_sum (WeightedSum)     (None, 28, 28, 1)    1           ['up_sampling2d[0][0]',          \n",
      "                                                                  'conv2d_transpose_5[0][0]']     \n",
      "                                                                                                  \n",
      "==================================================================================================\n",
      "Total params: 108,193\n",
      "Trainable params: 106,497\n"
     ]
    },
    {
     "name": "stdout",
     "output_type": "stream",
     "text": [
      "Non-trainable params: 1,696\n",
      "__________________________________________________________________________________________________\n",
      "You must install pydot (`pip install pydot`) and install graphviz (see instructions at https://graphviz.gitlab.io/download/) for plot_model to work.\n"
     ]
    }
   ],
   "source": [
    "noise = tf.random.normal([1, 100])\n",
    "\n",
    "gen = generator_model()\n",
    "gen.summary()\n",
    "\n",
    "new_gen,_ = generator_expand(gen)\n",
    "new_gen.summary()\n",
    "\n",
    "tf.keras.utils.plot_model(new_gen,to_file=\"gen_exp.png\")"
   ]
  },
  {
   "cell_type": "markdown",
   "metadata": {
    "id": "eFW-tuM6bFCu"
   },
   "source": [
    "##Discriminator"
   ]
  },
  {
   "cell_type": "code",
   "execution_count": 11,
   "metadata": {
    "id": "a3MkhVHWauEg"
   },
   "outputs": [],
   "source": [
    "def discriminator_model():\n",
    "    input_shape = (WIDTH*2,HEIGHT*2,CHANNELS)\n",
    "    input1 = layers.Input(input_shape, )\n",
    "\n",
    "    x = layers.Conv2D(16, (5, 5), strides=(1, 1), padding='same')(input1)\n",
    "    x = layers.LeakyReLU()(x)\n",
    "    x = layers.Dropout(0.3)(x)\n",
    "\n",
    "    x = layers.Conv2D(16, (5, 5), strides=(2, 2), padding='same')(x) # 14x14x64 -> 7x7x64\n",
    "    x = layers.LeakyReLU()(x)\n",
    "    x = layers.Dropout(0.3)(x)\n",
    "\n",
    "    x = layers.Flatten()(x)\n",
    "    x = layers.Dense(1)(x)\n",
    "\n",
    "    model = tf.keras.Model(input1,x)\n",
    "    return model"
   ]
  },
  {
   "cell_type": "code",
   "execution_count": 12,
   "metadata": {
    "id": "4YsyKyFALF27"
   },
   "outputs": [],
   "source": [
    "def discriminator_expand(old_disc):\n",
    "    size = old_disc.input.shape[1]*2\n",
    "    input_shape = (size,size,CHANNELS)\n",
    "\n",
    "    input1 = layers.Input(input_shape)\n",
    "\n",
    "    x = layers.Conv2D(16, (5, 5), strides=(1, 1), padding='same')(input1)\n",
    "    x = layers.LeakyReLU()(x)\n",
    "    x = layers.Dropout(0.3)(x)\n",
    "    \n",
    "    x = layers.Conv2D(16, (5, 5), strides=(2, 2), padding='same')(x) # 28x28x64 -> 14x14x128\n",
    "    x = layers.LeakyReLU()(x)\n",
    "    x = layers.Dropout(0.3)(x)\n",
    "\n",
    "    x1 = downsample(input1)\n",
    "    x1 = old_disc.layers[1](x1)\n",
    "    x1 = old_disc.layers[2](x1)\n",
    "    x1 = old_disc.layers[3](x1)\n",
    "\n",
    "    x2 = WeightedSum()([x1,x])\n",
    "    \n",
    "    for old_layer in old_disc.layers[4:]:\n",
    "        x2 = old_layer(x2)\n",
    "        x = old_layer(x)\n",
    "\n",
    "    model_weighted = tf.keras.Model(input1,x2)\n",
    "    model = tf.keras.Model(input1,x)\n",
    "\n",
    "    return model_weighted, model\n"
   ]
  },
  {
   "cell_type": "code",
   "execution_count": 13,
   "metadata": {
    "colab": {
     "base_uri": "https://localhost:8080/",
     "height": 1000
    },
    "id": "T649HKFMMuAW",
    "outputId": "d4a71811-aafd-4807-8ba7-0e273f09f85b"
   },
   "outputs": [
    {
     "name": "stdout",
     "output_type": "stream",
     "text": [
      "Model: \"model_3\"\n",
      "_________________________________________________________________\n",
      " Layer (type)                Output Shape              Param #   \n",
      "=================================================================\n",
      " input_3 (InputLayer)        [(None, 14, 14, 1)]       0         \n",
      "                                                                 \n",
      " conv2d (Conv2D)             (None, 14, 14, 16)        416       \n",
      "                                                                 \n",
      " leaky_re_lu_5 (LeakyReLU)   (None, 14, 14, 16)        0         \n",
      "                                                                 \n",
      " dropout (Dropout)           (None, 14, 14, 16)        0         \n",
      "                                                                 \n",
      " conv2d_1 (Conv2D)           (None, 7, 7, 16)          6416      \n",
      "                                                                 \n",
      " leaky_re_lu_6 (LeakyReLU)   (None, 7, 7, 16)          0         \n",
      "                                                                 \n",
      " dropout_1 (Dropout)         (None, 7, 7, 16)          0         \n",
      "                                                                 \n",
      " flatten (Flatten)           (None, 784)               0         \n",
      "                                                                 \n",
      " dense_1 (Dense)             (None, 1)                 785       \n",
      "                                                                 \n",
      "=================================================================\n",
      "Total params: 7,617\n",
      "Trainable params: 7,617\n",
      "Non-trainable params: 0\n",
      "_________________________________________________________________\n",
      "Model: \"model_4\"\n",
      "__________________________________________________________________________________________________\n",
      " Layer (type)                   Output Shape         Param #     Connected to                     \n",
      "==================================================================================================\n",
      " input_4 (InputLayer)           [(None, 28, 28, 1)]  0           []                               \n",
      "                                                                                                  \n",
      " conv2d_2 (Conv2D)              (None, 28, 28, 16)   416         ['input_4[0][0]']                \n",
      "                                                                                                  \n",
      " leaky_re_lu_7 (LeakyReLU)      (None, 28, 28, 16)   0           ['conv2d_2[0][0]']               \n",
      "                                                                                                  \n",
      " average_pooling2d (AveragePool  (None, 14, 14, 1)   0           ['input_4[0][0]']                \n",
      " ing2D)                                                                                           \n",
      "                                                                                                  \n",
      " dropout_2 (Dropout)            (None, 28, 28, 16)   0           ['leaky_re_lu_7[0][0]']          \n",
      "                                                                                                  \n",
      " conv2d (Conv2D)                (None, 14, 14, 16)   416         ['average_pooling2d[0][0]']      \n",
      "                                                                                                  \n",
      " conv2d_3 (Conv2D)              (None, 14, 14, 16)   6416        ['dropout_2[0][0]']              \n",
      "                                                                                                  \n",
      " leaky_re_lu_5 (LeakyReLU)      (None, 14, 14, 16)   0           ['conv2d[1][0]']                 \n",
      "                                                                                                  \n",
      " leaky_re_lu_8 (LeakyReLU)      (None, 14, 14, 16)   0           ['conv2d_3[0][0]']               \n",
      "                                                                                                  \n",
      " dropout (Dropout)              (None, 14, 14, 16)   0           ['leaky_re_lu_5[1][0]']          \n",
      "                                                                                                  \n",
      " dropout_3 (Dropout)            (None, 14, 14, 16)   0           ['leaky_re_lu_8[0][0]']          \n",
      "                                                                                                  \n",
      " weighted_sum_1 (WeightedSum)   (None, 14, 14, 16)   1           ['dropout[1][0]',                \n",
      "                                                                  'dropout_3[0][0]']              \n",
      "                                                                                                  \n",
      " conv2d_1 (Conv2D)              (None, 7, 7, 16)     6416        ['weighted_sum_1[0][0]']         \n",
      "                                                                                                  \n",
      " leaky_re_lu_6 (LeakyReLU)      (None, 7, 7, 16)     0           ['conv2d_1[1][0]']               \n",
      "                                                                                                  \n",
      " dropout_1 (Dropout)            (None, 7, 7, 16)     0           ['leaky_re_lu_6[1][0]']          \n",
      "                                                                                                  \n",
      " flatten (Flatten)              (None, 784)          0           ['dropout_1[1][0]']              \n",
      "                                                                                                  \n",
      " dense_1 (Dense)                (None, 1)            785         ['flatten[1][0]']                \n",
      "                                                                                                  \n",
      "==================================================================================================\n",
      "Total params: 14,450\n",
      "Trainable params: 14,450\n",
      "Non-trainable params: 0\n",
      "__________________________________________________________________________________________________\n",
      "You must install pydot (`pip install pydot`) and install graphviz (see instructions at https://graphviz.gitlab.io/download/) for plot_model to work.\n"
     ]
    }
   ],
   "source": [
    "disc = discriminator_model()\n",
    "disc.summary()\n",
    "\n",
    "new_disc,_ = discriminator_expand(disc)\n",
    "new_disc.summary()\n",
    "\n",
    "tf.keras.utils.plot_model(new_disc,to_file=\"disc_exp.png\")"
   ]
  },
  {
   "cell_type": "markdown",
   "metadata": {
    "id": "iyU5bXz3bgmS"
   },
   "source": [
    "#Optimizer & Losses"
   ]
  },
  {
   "cell_type": "code",
   "execution_count": 14,
   "metadata": {
    "id": "2S9zKBdINM0g"
   },
   "outputs": [],
   "source": [
    "#@tf.function\n",
    "def generator_loss(fake_output):\n",
    "    return tf.reduce_sum(fake_output)"
   ]
  },
  {
   "cell_type": "code",
   "execution_count": 15,
   "metadata": {
    "id": "j7dq5wuTbLa_"
   },
   "outputs": [],
   "source": [
    "#@tf.function\n",
    "def discriminator_loss(real_output, fake_output, penalty = 0):\n",
    "    return tf.reduce_sum(real_output - fake_output) + penalty"
   ]
  },
  {
   "cell_type": "code",
   "execution_count": 16,
   "metadata": {
    "id": "dflOvHECbj0V"
   },
   "outputs": [],
   "source": [
    "generator_optimizer = tf.keras.optimizers.Adam(learning_rate=0.001, beta_1=0.0, beta_2=0.99, epsilon=1e-08)\n",
    "discriminator_optimizer = tf.keras.optimizers.Adam(learning_rate=0.001, beta_1=0.0, beta_2=0.99, epsilon=1e-08)"
   ]
  },
  {
   "cell_type": "markdown",
   "metadata": {
    "id": "QPRne7EAb3Ng"
   },
   "source": [
    "#Training Loop"
   ]
  },
  {
   "cell_type": "code",
   "execution_count": 17,
   "metadata": {
    "id": "dRMANLW4b82f"
   },
   "outputs": [],
   "source": [
    "noise_dim = 100\n",
    "num_examples_to_generate = 16\n",
    "\n",
    "# You will reuse this seed overtime (so it's easier)\n",
    "# to visualize progress in the animated GIF)\n",
    "seed = tf.random.normal([num_examples_to_generate, noise_dim])"
   ]
  },
  {
   "cell_type": "code",
   "execution_count": 18,
   "metadata": {
    "id": "34dyUG36VYM3"
   },
   "outputs": [],
   "source": [
    "#@tf.function\n",
    "def train_step(images):\n",
    "    noise = tf.random.normal([BATCH_SIZE, noise_dim])\n",
    "\n",
    "    with tf.GradientTape() as gen_tape, tf.GradientTape() as disc_tape:\n",
    "        generated_images = generator(noise, training=True)\n",
    "\n",
    "        real_output = discriminator(images, training=True)\n",
    "        fake_output = discriminator(generated_images, training=True)\n",
    "\n",
    "        gen_loss = generator_loss(fake_output)\n",
    "        disc_loss = discriminator_loss(real_output, fake_output)\n",
    "\n",
    "    gradients_of_generator = gen_tape.gradient(gen_loss, generator.trainable_variables)\n",
    "    gradients_of_discriminator = disc_tape.gradient(disc_loss, discriminator.trainable_variables)\n",
    "\n",
    "    generator_optimizer.apply_gradients(zip(gradients_of_generator, generator.trainable_variables))\n",
    "    discriminator_optimizer.apply_gradients(zip(gradients_of_discriminator, discriminator.trainable_variables))"
   ]
  },
  {
   "cell_type": "code",
   "execution_count": 19,
   "metadata": {
    "id": "ReeYXO-Z0leJ"
   },
   "outputs": [],
   "source": [
    "#@tf.function #cant use same tf function with different model shapes\n",
    "def train_step_gp(images):\n",
    "    noise = tf.random.normal([images.shape[0], noise_dim])\n",
    "    e = tf.random.uniform([images.shape[0],1,1,1],minval = 0,maxval = 1)\n",
    "\n",
    "    \n",
    "    with tf.GradientTape(persistent=True) as tape:\n",
    "        with tf.GradientTape() as penalty_tape:\n",
    "            generated_images = generator(noise, training=True)\n",
    "            print(generated_images.shape)\n",
    "            weighted_images = e*images + (1-e)*generated_images\n",
    "\n",
    "            weighted_output = discriminator(weighted_images, training = True)\n",
    "        \n",
    "        real_output = discriminator(images, training = True)\n",
    "        fake_output = discriminator(generated_images, training = True)\n",
    "\n",
    "        penalty = penalty_tape.gradient(weighted_output,weighted_images) #gradient\n",
    "        penalty = tf.sqrt(tf.reduce_sum(tf.square(penalty), axis=[1, 2, 3])) #norm\n",
    "        penalty = 100*tf.reduce_mean(tf.math.square(penalty-1)) # k*(norm -1)^2\n",
    "\n",
    "        gen_loss = generator_loss(fake_output)\n",
    "        disc_loss = discriminator_loss(real_output, fake_output, penalty)\n",
    "\n",
    "\n",
    "    gradients_of_generator = tape.gradient(gen_loss, generator.trainable_variables)\n",
    "    gradients_of_discriminator = tape.gradient(disc_loss, discriminator.trainable_variables)\n",
    "\n",
    "    generator_optimizer.apply_gradients(zip(gradients_of_generator, generator.trainable_variables))\n",
    "    discriminator_optimizer.apply_gradients(zip(gradients_of_discriminator, discriminator.trainable_variables))"
   ]
  },
  {
   "cell_type": "code",
   "execution_count": 20,
   "metadata": {
    "id": "miYsdb8BghMN"
   },
   "outputs": [],
   "source": [
    "def generate_and_save_images(epoch, test_input):\n",
    "    predictions = generator(test_input, training = False)\n",
    "    (examples, width, height, channels) = predictions.shape \n",
    "    \n",
    "    mode = 'RGB'\n",
    "    if channels==1:\n",
    "        mode = 'L'\n",
    "        predictions = np.squeeze(predictions)\n",
    "        \n",
    "    result = PIL.Image.new(mode,(4*width,4*height))\n",
    "    \n",
    "    for i in range(min(16,examples)):\n",
    "        image = np.array((predictions[i]*127.5+127.5)).clip(0,255).squeeze().astype(\"uint8\")\n",
    "        image = PIL.Image.fromarray(image,mode)\n",
    "        result.paste(im=image,box=(width*(i//4),height*(i%4)))\n",
    "    \n",
    "    result.save('pg_gan/nn_{}_step_{}_epoch_{:04d}.png'.format(NN,TRAIN,epoch),\"PNG\")\n",
    "    plt.imshow(np.asarray(result),cmap=\"gray\")\n",
    "    plt.show()"
   ]
  },
  {
   "cell_type": "code",
   "execution_count": 21,
   "metadata": {
    "id": "KBNyjvi6eyuD"
   },
   "outputs": [],
   "source": [
    "def train(dataset,Epochs):\n",
    "\n",
    "    print(\"Starting training\")\n",
    "    for epoch in range(Epochs):\n",
    "        start = time.time()\n",
    "\n",
    "        #print(\"Epoch {}\".format(epoch+1))\n",
    "\n",
    "        for image_batch in dataset:\n",
    "            #print(\".\",end=\"\")\n",
    "            train_step_gp(image_batch)\n",
    "\n",
    "        # Produce images for the GIF as you go\n",
    "        display.clear_output(wait=True)\n",
    "        generate_and_save_images(epoch + 1,seed)\n",
    "        \n",
    "        print (\"Time for epoch {}/{} is {} sec\".format(epoch + 1,Epochs, time.time()-start))"
   ]
  },
  {
   "cell_type": "code",
   "execution_count": 22,
   "metadata": {
    "id": "LepPenYZhuBI"
   },
   "outputs": [],
   "source": [
    "def train_fade_in(dataset,Epochs):\n",
    "\n",
    "    print(\"Starting training with fade-in\")\n",
    "    for epoch in range(Epochs):\n",
    "        start = time.time()\n",
    "        #print(\"Epoch {}\".format(epoch+1))\n",
    "\n",
    "        alpha = (epoch+1)/Epochs #0 to 1\n",
    "        for image_batch in dataset:\n",
    "            #print(\".\",end=\"\")\n",
    "            for layer in discriminator.layers:\n",
    "                if isinstance(layer,WeightedSum):\n",
    "                    tf.keras.backend.set_value(layer.alpha,alpha)\n",
    "            for layer in generator.layers:\n",
    "                if isinstance(layer,WeightedSum):\n",
    "                    tf.keras.backend.set_value(layer.alpha,alpha)\n",
    "            \n",
    "            train_step_gp(image_batch)\n",
    "\n",
    "\n",
    "        # Produce images for the GIF as you go\n",
    "        display.clear_output(wait=True)\n",
    "        generate_and_save_images(epoch + 1,seed)\n",
    "        \n",
    "        print (\"Time for epoch {}/{} is {} sec\".format(epoch + 1,Epochs, time.time()-start))"
   ]
  },
  {
   "cell_type": "markdown",
   "metadata": {
    "id": "UAn0BMvCOKw8"
   },
   "source": [
    "### Testing"
   ]
  },
  {
   "cell_type": "code",
   "execution_count": 23,
   "metadata": {
    "colab": {
     "base_uri": "https://localhost:8080/",
     "height": 340
    },
    "id": "VPpIwPQuKRpk",
    "outputId": "05bc92da-6a48-4769-8876-e3e899b9d3d7"
   },
   "outputs": [
    {
     "name": "stdout",
     "output_type": "stream",
     "text": [
      "(1, 4, 4, 1)\n",
      "<class 'tensorflow.python.framework.ops.EagerTensor'>\n",
      "<class 'tensorflow.python.framework.ops.EagerTensor'>\n"
     ]
    },
    {
     "data": {
      "image/png": "[encoded data removed]",
      "text/plain": [
       "<Figure size 640x480 with 1 Axes>"
      ]
     },
     "metadata": {},
     "output_type": "display_data"
    },
    {
     "name": "stdout",
     "output_type": "stream",
     "text": [
      "Wall time: 114 ms\n"
     ]
    }
   ],
   "source": [
    "%%time\n",
    "for i in range(10):\n",
    "    image = tf.random.normal([1,2,2,1])\n",
    "    upsize = upsample(image)\n",
    "print(upsize.shape)\n",
    "print(type(upsize))\n",
    "print(type(image))\n",
    "\n",
    "(width,height,channels) = train_images[0].shape\n",
    "mode = 'RGB'\n",
    "if channels==1:\n",
    "    mode = 'L'\n",
    "result = PIL.Image.new(mode,(3*width,3*height))\n",
    "\n",
    "for i in range(3):\n",
    "    image = downsample(upsample(train_images[i:i+1]))\n",
    "    image = np.array((image*127.5+127.5)).clip(0,255).squeeze().astype(\"uint8\")\n",
    "    image = PIL.Image.fromarray(image,mode)\n",
    "    result.paste(im=image,box=(width*0,height*i))\n",
    "    \n",
    "    image = train_images[i:i+1]\n",
    "    image = np.array((image*127.5+127.5)).clip(0,255).squeeze().astype(\"uint8\")\n",
    "    image = PIL.Image.fromarray(image,mode)\n",
    "    result.paste(im=image,box=(width*1,height*i))\n",
    "    \n",
    "    image = upsample(downsample(train_images[i:i+1]))\n",
    "    image = np.array((image*127.5+127.5)).clip(0,255).squeeze().astype(\"uint8\")\n",
    "    image = PIL.Image.fromarray(image,mode)\n",
    "    result.paste(im=image,box=(width*2,height*i))\n",
    "\n",
    "plt.imshow(np.asarray(result),cmap=\"gray\")\n",
    "plt.axis(\"off\")\n",
    "plt.show()"
   ]
  },
  {
   "cell_type": "code",
   "execution_count": 24,
   "metadata": {},
   "outputs": [
    {
     "data": {
      "image/png": "[encoded data removed]",
      "text/plain": [
       "<Figure size 640x480 with 1 Axes>"
      ]
     },
     "metadata": {},
     "output_type": "display_data"
    }
   ],
   "source": [
    "(width,height,channels) = train_images[0].shape\n",
    "mode = 'RGB'\n",
    "if channels==1:\n",
    "    mode = 'L'\n",
    "result = PIL.Image.new(mode,(int(3.5*width),2*height))\n",
    "\n",
    "for i in range(4):\n",
    "    image = downsample(train_images[i:i+1])\n",
    "    image = np.array((image*127.5+127.5)).clip(0,255).squeeze().astype(\"uint8\")\n",
    "    image = PIL.Image.fromarray(image,mode)\n",
    "    result.paste(im=image,box=(width*0,int(height*i/2)))\n",
    "    \n",
    "for i in range(2):\n",
    "    image = train_images[i:i+1]\n",
    "    image = np.array((image*127.5+127.5)).clip(0,255).squeeze().astype(\"uint8\")\n",
    "    image = PIL.Image.fromarray(image,mode)\n",
    "    result.paste(im=image,box=(int(width/2),height*i))\n",
    "\n",
    "i=0\n",
    "image = upsample(train_images[i:i+1])\n",
    "image = np.array((image*127.5+127.5)).clip(0,255).squeeze().astype(\"uint8\")\n",
    "image = PIL.Image.fromarray(image,mode)\n",
    "result.paste(im=image,box=(int(width*3/2),0))\n",
    "\n",
    "plt.imshow(np.asarray(result),cmap=\"gray\")\n",
    "plt.axis(\"off\")\n",
    "plt.show()"
   ]
  },
  {
   "cell_type": "markdown",
   "metadata": {
    "id": "YXXvUaDAb9Xo"
   },
   "source": [
    "#Model training"
   ]
  },
  {
   "cell_type": "code",
   "execution_count": 25,
   "metadata": {
    "id": "-92xFeDpnBYM"
   },
   "outputs": [],
   "source": [
    "try:\n",
    "    NN = NN + 1\n",
    "except:\n",
    "    og_train_step = train_step_gp\n",
    "    NN = 0"
   ]
  },
  {
   "cell_type": "code",
   "execution_count": 26,
   "metadata": {},
   "outputs": [],
   "source": [
    "try:\n",
    "    os.mkdir(\"pg_gan\")\n",
    "except:\n",
    "    pass"
   ]
  },
  {
   "cell_type": "code",
   "execution_count": 27,
   "metadata": {
    "colab": {
     "base_uri": "https://localhost:8080/"
    },
    "id": "YRBjXKypb9vF",
    "outputId": "0d6423ad-20b9-4b76-a69d-9edb46d7d2f8"
   },
   "outputs": [
    {
     "data": {
      "image/png": "[encoded data removed]",
      "text/plain": [
       "<Figure size 640x480 with 1 Axes>"
      ]
     },
     "metadata": {},
     "output_type": "display_data"
    },
    {
     "name": "stdout",
     "output_type": "stream",
     "text": [
      "Time for epoch 20/20 is 55.989200592041016 sec\n"
     ]
    }
   ],
   "source": [
    "NN = NN +1\n",
    "TRAIN = 0\n",
    "\n",
    "train_step_gp = tf.function()(og_train_step)\n",
    "\n",
    "generator = generator_model()\n",
    "discriminator = discriminator_model()\n",
    "\n",
    "train(train_dataset14,20)\n",
    "TRAIN = TRAIN+1\n",
    "\n",
    "generator,g = generator_expand(generator)\n",
    "discriminator,d = discriminator_expand(discriminator)\n",
    "\n",
    "train_step_gp = tf.function()(og_train_step)\n",
    "\n",
    "train_fade_in(train_dataset28,20)\n",
    "TRAIN = TRAIN+1\n",
    "\n",
    "train(train_dataset28,20)\n",
    "TRAIN = TRAIN+1\n",
    "\n",
    "generator,g = generator_expand(g)\n",
    "discriminator,d = discriminator_expand(d)\n",
    "\n",
    "train_step_gp = tf.function()(og_train_step)\n",
    "\n",
    "train_fade_in(train_dataset56,20)\n",
    "TRAIN = TRAIN+1\n",
    "\n",
    "train(train_dataset56,20)\n",
    "TRAIN = TRAIN+1"
   ]
  },
  {
   "cell_type": "code",
   "execution_count": 29,
   "metadata": {},
   "outputs": [
    {
     "name": "stderr",
     "output_type": "stream",
     "text": [
      "C:\\Users\\hss19\\AppData\\Local\\Temp\\ipykernel_6708\\3450863758.py:6: DeprecationWarning: ANTIALIAS is deprecated and will be removed in Pillow 10 (2023-07-01). Use Resampling.LANCZOS instead.\n",
      "  img = img.resize(imgs[-1].size, PIL.Image.ANTIALIAS)\n",
      "C:\\Users\\hss19\\AppData\\Local\\Temp\\ipykernel_6708\\3450863758.py:8: DeprecationWarning: ANTIALIAS is deprecated and will be removed in Pillow 10 (2023-07-01). Use Resampling.LANCZOS instead.\n",
      "  imgs[i] = imgs[i].resize(imgs[-1].size, PIL.Image.ANTIALIAS)\n"
     ]
    }
   ],
   "source": [
    "fp_in = \"pg_gan/nn_{}*.png\".format(NN)\n",
    "fp_out = \"pg_gan/nn_{}_scaled.gif\".format(NN)\n",
    "\n",
    "img, *imgs = [PIL.Image.open(f) for f in sorted(glob.glob(fp_in))]\n",
    "\n",
    "img = img.resize(imgs[-1].size, PIL.Image.ANTIALIAS)\n",
    "for i in range(len(imgs)):\n",
    "    imgs[i] = imgs[i].resize(imgs[-1].size, PIL.Image.ANTIALIAS)\n",
    "\n",
    "img.save(fp=fp_out, format='GIF', append_images=imgs,\n",
    "         save_all=True, duration=500, loop=0)"
   ]
  },
  {
   "cell_type": "code",
   "execution_count": 30,
   "metadata": {
    "id": "aBQ6Z52fY-ok"
   },
   "outputs": [],
   "source": [
    "fp_in = \"pg_gan/nn_{}*.png\".format(NN)\n",
    "fp_out = \"pg_gan/nn_{}_real.gif\".format(NN)\n",
    "\n",
    "imgs = [PIL.Image.open(f) for f in sorted(glob.glob(fp_in))]\n",
    "\n",
    "result = PIL.Image.new(\"RGB\", imgs[-1].size, (0,0,0))\n",
    "for i in range(len(imgs)):\n",
    "    x = int(result.size[0]/2-imgs[i].size[0]/2)\n",
    "    y = int(result.size[1]/2-imgs[i].size[1]/2)\n",
    "    \n",
    "    aux = imgs[i].copy()\n",
    "    imgs[i] = result.copy()\n",
    "    imgs[i].paste(aux,box=(x,y))\n",
    "\n",
    "result.save(fp=fp_out, format='GIF', append_images=imgs,\n",
    "         save_all=True, duration=500, loop=0)"
   ]
  },
  {
   "cell_type": "code",
   "execution_count": null,
   "metadata": {},
   "outputs": [],
   "source": []
  }
 ],
 "metadata": {
  "accelerator": "GPU",
  "colab": {
   "authorship_tag": "ABX9TyOWre4IG7y3cis39vEiVqkt",
   "collapsed_sections": [],
   "include_colab_link": true,
   "name": "grow_gan.ipynb",
   "provenance": [],
   "toc_visible": true
  },
  "kernelspec": {
   "display_name": "Python 3 (ipykernel)",
   "language": "python",
   "name": "python3"
  },
  "language_info": {
   "codemirror_mode": {
    "name": "ipython",
    "version": 3
   },
   "file_extension": ".py",
   "mimetype": "text/x-python",
   "name": "python",
   "nbconvert_exporter": "python",
   "pygments_lexer": "ipython3",
   "version": "3.9.20"
  }
 },
 "nbformat": 4,
 "nbformat_minor": 1
}
