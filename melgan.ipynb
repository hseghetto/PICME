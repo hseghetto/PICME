{
 "cells": [
  {
   "cell_type": "code",
   "execution_count": 1,
   "id": "d727f8db",
   "metadata": {},
   "outputs": [],
   "source": [
    "import tensorflow as tf\n",
    "import tensorflow_probability as tfp\n",
    "import tensorflow_datasets as tfds\n",
    "import matplotlib.pyplot as plt\n",
    "import numpy as np\n",
    "\n",
    "import PIL\n",
    "import time\n",
    "\n",
    "from tensorflow.keras import layers\n",
    "\n",
    "from IPython import display"
   ]
  },
  {
   "cell_type": "code",
   "execution_count": 2,
   "id": "049a8180",
   "metadata": {},
   "outputs": [],
   "source": [
    "tf.__version__\n",
    "physical_devices = tf.config.list_physical_devices('GPU')\n",
    "tf.config.experimental.set_memory_growth(physical_devices[0],True)"
   ]
  },
  {
   "cell_type": "code",
   "execution_count": 3,
   "id": "32869060",
   "metadata": {},
   "outputs": [
    {
     "data": {
      "text/plain": [
       "True"
      ]
     },
     "execution_count": 3,
     "metadata": {},
     "output_type": "execute_result"
    }
   ],
   "source": [
    "tf.executing_eagerly()"
   ]
  },
  {
   "cell_type": "markdown",
   "id": "927e8508",
   "metadata": {},
   "source": [
    "## Model"
   ]
  },
  {
   "cell_type": "code",
   "execution_count": 4,
   "id": "d580905f",
   "metadata": {},
   "outputs": [],
   "source": [
    "class ReflectionPad1d(layers.Layer):\n",
    "    \"\"\"Tensorflow ReflectionPad1d module.\"\"\"\n",
    "\n",
    "    def __init__(self, padding_size, padding_type=\"REFLECT\", **kwargs):\n",
    "        \"\"\"Initialize TFReflectionPad1d module.\n",
    "        Args:\n",
    "            padding_size (int)\n",
    "            padding_type (str) (\"CONSTANT\", \"REFLECT\", or \"SYMMETRIC\". Default is \"REFLECT\")\n",
    "        \"\"\"\n",
    "        super().__init__(**kwargs)\n",
    "        self.padding_size = padding_size\n",
    "        self.padding_type = padding_type\n",
    "\n",
    "    def call(self, x):\n",
    "        \"\"\"Calculate forward propagation.\n",
    "        Args:\n",
    "            x (Tensor): Input tensor (B, T, C).\n",
    "        Returns:\n",
    "            Tensor: Padded tensor (B, T + 2 * padding_size, C).\n",
    "        \"\"\"\n",
    "        return tf.pad(\n",
    "            x,\n",
    "            [[0, 0], [self.padding_size, self.padding_size], [0, 0]],\n",
    "            self.padding_type,\n",
    "        )\n",
    "\n",
    "    \n",
    "class Conv1DTranspose(layers.Layer):\n",
    "    def __init__(self, filters, kernel_size, strides, padding):\n",
    "        super(Conv1DTraanspose, self).__init__()\n",
    "        self.Conv2DTranspose = layers.Conv2DTranspose(filters, (kernel_size,1), (strides,1), padding = \"same\")\n",
    "        self.Conv2DTranspose = tfp.layers.weight_norm.WeightNorm(self.Conv2DTranspose)\n",
    "        \n",
    "    def call(self, inputs):\n",
    "        x = tf.expand_dims(inputs,2)\n",
    "        x = self.Conv2DTranspose(x)\n",
    "        x = tf.squeeze(x,2)\n",
    "    \n",
    "        return x\n",
    "\n",
    "class ResnetBlock(layers.Layer):\n",
    "    def __init__(self, filters):\n",
    "        super().__init__()\n",
    "        \n",
    "        self.blocks = [\n",
    "            layers.LeakyReLU(),\n",
    "            ReflectionPad1d(3),\n",
    "            layers.Conv1D(filters,3),\n",
    "            layers.LeakyReLU(),\n",
    "            layers.Conv1D(filters,1),\n",
    "        ]\n",
    "        self.shortcut = layers.Conv1D(filters, 1)\n",
    "        \n",
    "        for i in range(len(self.blocks)):\n",
    "            try:\n",
    "                layer_name = self.blocks[i].name.lower()\n",
    "                if \"conv1d\" in layer_name or \"dense\" in layer_name:\n",
    "                    self.blocks[i] = tfp.layers.weight_norm.WeightNorm(self.blocks[i])\n",
    "            except:\n",
    "                pass\n",
    "        self.shortcut = tfp.layers.weight_norm.WeightNorm(self.shortcut)\n",
    "        \n",
    "    def call(self, inputs):\n",
    "        shortcut = self.shortcut(inputs)\n",
    "        \n",
    "        x = inputs\n",
    "        for l in self.blocks:\n",
    "            x = layer(x)\n",
    "            \n",
    "        return shortcut + x \n",
    "\n",
    "def MelGAN_Generator(shape,filters,ratios,n_blocks):\n",
    "    input1 = layers.Input(Shape)\n",
    "    \n",
    "    x = ReflectionPad1d(3)(input1)\n",
    "    \n",
    "    x = tfp.layers.weight_norm.WeightNorm(layers.Conv1D(filters*2, 7))(x)\n",
    "    \n",
    "    for r in ratios:\n",
    "        x = layers.LeakyReLU()(x)\n",
    "        x = tfp.layers.weight_norm.WeightNorm(Conv1DTranspose(filters, r*2, stride=r, padding= \"same\"))(x)\n",
    "        \n",
    "    for i in range(n_blocks):\n",
    "        x = ResnetBlock(filters)(x)\n",
    "        \n",
    "    x = layers.LeakyReLU()(x)\n",
    "    x = ReflectionPad1d(3)(x)\n",
    "    x = tfp.layers.weight_norm.WeightNorm(layers.Conv1D(1, 7))(x)\n",
    "    x = layers.Dense(activation=\"tanh\")(x)\n",
    "    \n",
    "    model = tf.keras.Model(input1,x)\n",
    "    return model\n",
    "\n",
    "def MelGAN_Discriminator(shape, filters, factor, n_layers):\n",
    "    input1 = layers.Input(shape)\n",
    "    \n",
    "    x = ReflectionPad1d(7)(input1)\n",
    "    \n",
    "    x = tfp.layers.weight_norm.WeightNorm(layers.Conv1D(filters, 15))(x)\n",
    "    x = layers.LeakyReLU()(x)\n",
    "    \n",
    "    for i in range(n_layers):\n",
    "        filters = min(filters*factor, 1024)\n",
    "        \n",
    "        x = tfp.layers.weight_norm.WeightNorm(layers.Conv1D(filters, factor*10+1, stride = factor))(x)\n",
    "        x = layers.LeakyReLU()(x)\n",
    "    \n",
    "    x = tfp.layers.weight_norm.WeightNorm(layers.Conv1D(filters, 5))(x)\n",
    "    x = layers.LeakyReLU()(x)\n",
    "        \n",
    "    x = tfp.layers.weight_norm.WeightNorm(layers.Conv1D(1, 3))(x)\n",
    "    \n",
    "    model = tf.keras.Model(input1,x)\n",
    "    return model"
   ]
  },
  {
   "cell_type": "markdown",
   "id": "e76454a6",
   "metadata": {},
   "source": [
    "## Dataset"
   ]
  },
  {
   "cell_type": "code",
   "execution_count": 5,
   "id": "386802cf",
   "metadata": {},
   "outputs": [],
   "source": [
    "data = tfds.load(\"spoken_digit\", split = \"train\", shuffle_files=\"true\") "
   ]
  },
  {
   "cell_type": "code",
   "execution_count": 6,
   "id": "c99e0f86",
   "metadata": {},
   "outputs": [
    {
     "name": "stdout",
     "output_type": "stream",
     "text": [
      "['_GeneratorState', '__abstractmethods__', '__bool__', '__class__', '__delattr__', '__dict__', '__dir__', '__doc__', '__eq__', '__format__', '__ge__', '__getattribute__', '__gt__', '__hash__', '__init__', '__init_subclass__', '__iter__', '__le__', '__len__', '__lt__', '__module__', '__ne__', '__new__', '__nonzero__', '__reduce__', '__reduce_ex__', '__repr__', '__setattr__', '__sizeof__', '__slots__', '__str__', '__subclasshook__', '__weakref__', '_abc_impl', '_add_variable_with_custom_getter', '_apply_options', '_as_serialized_graph', '_checkpoint_dependencies', '_consumers', '_deferred_dependencies', '_flat_shapes', '_flat_structure', '_flat_types', '_functions', '_gather_saveables_for_checkpoint', '_graph', '_graph_attr', '_handle_deferred_dependencies', '_has_captured_ref', '_input_dataset', '_inputs', '_list_extra_dependencies_for_serialization', '_list_functions_for_serialization', '_lookup_dependency', '_map_resources', '_maybe_initialize_trackable', '_name_based_attribute_restore', '_name_based_restores', '_no_dependency', '_object_identifier', '_options_attr', '_preload_simple_restoration', '_restore_from_checkpoint_position', '_self_name_based_restores', '_self_saveable_object_factories', '_self_setattr_tracking', '_self_unconditional_checkpoint_dependencies', '_self_unconditional_deferred_dependencies', '_self_unconditional_dependency_names', '_self_update_uid', '_setattr_tracking', '_shape_invariant_to_type_spec', '_single_restoration_from_checkpoint_position', '_tf_api_names', '_tf_api_names_v1', '_trace_variant_creation', '_track_trackable', '_tracking_metadata', '_type_spec', '_unconditional_checkpoint_dependencies', '_unconditional_dependency_names', '_update_uid', '_variant_tensor', '_variant_tensor_attr', '_variant_tracker', 'apply', 'as_numpy_iterator', 'batch', 'cache', 'cardinality', 'concatenate', 'element_spec', 'enumerate', 'filter', 'flat_map', 'from_generator', 'from_tensor_slices', 'from_tensors', 'interleave', 'list_files', 'map', 'options', 'padded_batch', 'prefetch', 'range', 'reduce', 'repeat', 'shard', 'shuffle', 'skip', 'take', 'unbatch', 'window', 'with_options', 'zip']\n",
      "<class 'tensorflow.python.data.ops.dataset_ops._OptionsDataset'>\n",
      "<_OptionsDataset shapes: {audio: (None,), audio/filename: (), label: ()}, types: {audio: tf.int64, audio/filename: tf.string, label: tf.int64}>\n"
     ]
    }
   ],
   "source": [
    "print(dir(data))\n",
    "print(type(data))\n",
    "print(data)"
   ]
  },
  {
   "cell_type": "code",
   "execution_count": 7,
   "id": "177edffe",
   "metadata": {},
   "outputs": [
    {
     "name": "stdout",
     "output_type": "stream",
     "text": [
      "(1525,)\n",
      "dict_keys(['audio', 'audio/filename', 'label'])\n",
      "dict_values([<tf.Tensor: shape=(1525,), dtype=int64, numpy=array([   0,    0, -256, ..., -512, -256, -512], dtype=int64)>, <tf.Tensor: shape=(), dtype=string, numpy=b'2_nicolas_23.wav'>, <tf.Tensor: shape=(), dtype=int64, numpy=2>])\n",
      "<class 'dict'>\n",
      "['__class__', '__contains__', '__delattr__', '__delitem__', '__dir__', '__doc__', '__eq__', '__format__', '__ge__', '__getattribute__', '__getitem__', '__gt__', '__hash__', '__init__', '__init_subclass__', '__iter__', '__le__', '__len__', '__lt__', '__ne__', '__new__', '__reduce__', '__reduce_ex__', '__repr__', '__reversed__', '__setattr__', '__setitem__', '__sizeof__', '__str__', '__subclasshook__', 'clear', 'copy', 'fromkeys', 'get', 'items', 'keys', 'pop', 'popitem', 'setdefault', 'update', 'values']\n"
     ]
    }
   ],
   "source": [
    "for i in data:\n",
    "    print(i.get(\"audio\").shape)\n",
    "    print(i.keys())\n",
    "    print(i.values())\n",
    "    print(type(i))\n",
    "    print(dir(i))\n",
    "    break"
   ]
  },
  {
   "cell_type": "code",
   "execution_count": 19,
   "id": "f9233736",
   "metadata": {},
   "outputs": [
    {
     "data": {
      "image/png": "[encoded data removed]",
      "text/plain": [
       "<Figure size 432x288 with 1 Axes>"
      ]
     },
     "metadata": {
      "needs_background": "light"
     },
     "output_type": "display_data"
    }
   ],
   "source": [
    "l = []\n",
    "for i in data:\n",
    "    if(len(i[\"audio\"])<3000):\n",
    "        l.append(i.get(\"audio\"))\n",
    "        plt.plot(l[-1])"
   ]
  },
  {
   "cell_type": "code",
   "execution_count": 20,
   "id": "dfbe1aad",
   "metadata": {},
   "outputs": [
    {
     "name": "stdout",
     "output_type": "stream",
     "text": [
      "1033\n"
     ]
    }
   ],
   "source": [
    "print(len(l))"
   ]
  },
  {
   "cell_type": "code",
   "execution_count": 21,
   "id": "7d30c1fe",
   "metadata": {},
   "outputs": [
    {
     "name": "stdout",
     "output_type": "stream",
     "text": [
      "['_GeneratorState', '__abstractmethods__', '__bool__', '__class__', '__delattr__', '__dict__', '__dir__', '__doc__', '__eq__', '__format__', '__ge__', '__getattribute__', '__gt__', '__hash__', '__init__', '__init_subclass__', '__iter__', '__le__', '__len__', '__lt__', '__module__', '__ne__', '__new__', '__nonzero__', '__reduce__', '__reduce_ex__', '__repr__', '__setattr__', '__sizeof__', '__slots__', '__str__', '__subclasshook__', '__weakref__', '_abc_impl', '_add_variable_with_custom_getter', '_apply_options', '_as_serialized_graph', '_checkpoint_dependencies', '_consumers', '_deferred_dependencies', '_flat_shapes', '_flat_structure', '_flat_types', '_functions', '_gather_saveables_for_checkpoint', '_graph', '_graph_attr', '_handle_deferred_dependencies', '_has_captured_ref', '_input_dataset', '_inputs', '_list_extra_dependencies_for_serialization', '_list_functions_for_serialization', '_lookup_dependency', '_map_resources', '_maybe_initialize_trackable', '_name_based_attribute_restore', '_name_based_restores', '_no_dependency', '_object_identifier', '_options_attr', '_preload_simple_restoration', '_restore_from_checkpoint_position', '_self_name_based_restores', '_self_saveable_object_factories', '_self_setattr_tracking', '_self_unconditional_checkpoint_dependencies', '_self_unconditional_deferred_dependencies', '_self_unconditional_dependency_names', '_self_update_uid', '_setattr_tracking', '_shape_invariant_to_type_spec', '_single_restoration_from_checkpoint_position', '_tf_api_names', '_tf_api_names_v1', '_trace_variant_creation', '_track_trackable', '_tracking_metadata', '_type_spec', '_unconditional_checkpoint_dependencies', '_unconditional_dependency_names', '_update_uid', '_variant_tensor', '_variant_tensor_attr', '_variant_tracker', 'apply', 'as_numpy_iterator', 'batch', 'cache', 'cardinality', 'concatenate', 'element_spec', 'enumerate', 'filter', 'flat_map', 'from_generator', 'from_tensor_slices', 'from_tensors', 'interleave', 'list_files', 'map', 'options', 'padded_batch', 'prefetch', 'range', 'reduce', 'repeat', 'shard', 'shuffle', 'skip', 'take', 'unbatch', 'window', 'with_options', 'zip']\n"
     ]
    }
   ],
   "source": [
    "print(dir(data))"
   ]
  },
  {
   "cell_type": "code",
   "execution_count": 56,
   "id": "dd108ca3",
   "metadata": {},
   "outputs": [
    {
     "name": "stdout",
     "output_type": "stream",
     "text": [
      "{'audio': <tf.Tensor 'args_0:0' shape=(None,) dtype=int64>, 'audio/filename': <tf.Tensor 'args_1:0' shape=() dtype=string>, 'label': <tf.Tensor 'args_2:0' shape=() dtype=int64>}\n"
     ]
    }
   ],
   "source": [
    "def func(i):\n",
    "    print(i)\n",
    "    \n",
    "    return i\n",
    "\n",
    "data = data.map(func)"
   ]
  },
  {
   "cell_type": "code",
   "execution_count": 55,
   "id": "1720d611",
   "metadata": {},
   "outputs": [
    {
     "name": "stdout",
     "output_type": "stream",
     "text": [
      "<dtype: 'int64'> (1525,) <class 'tensorflow.python.framework.ops.EagerTensor'>\n",
      "1525\n"
     ]
    }
   ],
   "source": [
    "for i in data:\n",
    "    print(i.get(\"audio\").dtype,i.get(\"audio\").shape,type(i.get(\"audio\")))\n",
    "    print(i[\"audio\"].shape[0])\n",
    "    tf.slice(i[\"audio\"],[0],[1000])\n",
    "    break"
   ]
  },
  {
   "cell_type": "code",
   "execution_count": null,
   "id": "a71311d5",
   "metadata": {},
   "outputs": [],
   "source": [
    "print()"
   ]
  }
 ],
 "metadata": {
  "kernelspec": {
   "display_name": "Python 3",
   "language": "python",
   "name": "python3"
  },
  "language_info": {
   "codemirror_mode": {
    "name": "ipython",
    "version": 3
   },
   "file_extension": ".py",
   "mimetype": "text/x-python",
   "name": "python",
   "nbconvert_exporter": "python",
   "pygments_lexer": "ipython3",
   "version": "3.8.10"
  }
 },
 "nbformat": 4,
 "nbformat_minor": 5
}
